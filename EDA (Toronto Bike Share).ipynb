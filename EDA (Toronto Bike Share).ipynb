{
 "cells": [
  {
   "cell_type": "markdown",
   "metadata": {
    "colab_type": "text",
    "id": "Xh1Y6zYN1EN5"
   },
   "source": [
    "# Load Data"
   ]
  },
  {
   "cell_type": "code",
   "execution_count": 1,
   "metadata": {
    "colab": {},
    "colab_type": "code",
    "id": "fTS8Qvzjz8YG"
   },
   "outputs": [],
   "source": [
    "import numpy as np\n",
    "import pandas as pd\n",
    "import matplotlib.pyplot as plt\n",
    "import seaborn as sns"
   ]
  },
  {
   "cell_type": "markdown",
   "metadata": {
    "colab_type": "text",
    "id": "sXYDegdjl7AF"
   },
   "source": [
    "1) The first step is to load the data and then format the columns accordingly in order to make the data analysis easier"
   ]
  },
  {
   "cell_type": "code",
   "execution_count": 2,
   "metadata": {
    "colab": {},
    "colab_type": "code",
    "id": "4tVda7mm0DQH"
   },
   "outputs": [],
   "source": [
    "data = pd.read_csv('Data/2017_Toronto_Bikeshare_Clean.csv')"
   ]
  },
  {
   "cell_type": "markdown",
   "metadata": {
    "colab_type": "text",
    "id": "9RUMXNjglPvy"
   },
   "source": [
    "* Converting trip times columns to datetime objects and other columns as categorical types in order to reduce the file size"
   ]
  },
  {
   "cell_type": "code",
   "execution_count": 3,
   "metadata": {
    "colab": {},
    "colab_type": "code",
    "id": "Xh5kzY6K0QXY"
   },
   "outputs": [],
   "source": [
    "data['trip_start_time'] = pd.to_datetime(data['trip_start_time'])\n",
    "data['trip_stop_time'] = pd.to_datetime(data['trip_stop_time'])\n",
    "# convert dates from strings to datetimes\n",
    "data['from_station_id'] = data['from_station_id'].astype('category')\n",
    "data['from_station_name'] = data['from_station_name'].astype('category')\n",
    "data['to_station_id'] = data['to_station_id'].astype('category')\n",
    "data['to_station_name'] = data['to_station_name'].astype('category')\n",
    "data['user_type'] = data['user_type'].astype('category')"
   ]
  },
  {
   "cell_type": "markdown",
   "metadata": {
    "colab_type": "text",
    "id": "xiYmdyTHljAL"
   },
   "source": [
    "* Check if conversion was successful by calling dtypes attribute"
   ]
  },
  {
   "cell_type": "code",
   "execution_count": 4,
   "metadata": {
    "colab": {
     "base_uri": "https://localhost:8080/",
     "height": 191
    },
    "colab_type": "code",
    "executionInfo": {
     "elapsed": 4917,
     "status": "ok",
     "timestamp": 1587597318278,
     "user": {
      "displayName": "grimmister",
      "photoUrl": "",
      "userId": "11539785123931148346"
     },
     "user_tz": 240
    },
    "id": "uHm7dzn40TeM",
    "outputId": "3ad78467-6a8d-4a6b-8a69-dbdc90d5c735"
   },
   "outputs": [
    {
     "data": {
      "text/plain": [
       "trip_id                           int64\n",
       "trip_start_time          datetime64[ns]\n",
       "trip_stop_time           datetime64[ns]\n",
       "trip_duration_seconds           float64\n",
       "from_station_id                category\n",
       "from_station_name              category\n",
       "to_station_id                  category\n",
       "to_station_name                category\n",
       "user_type                      category\n",
       "dtype: object"
      ]
     },
     "execution_count": 4,
     "metadata": {},
     "output_type": "execute_result"
    }
   ],
   "source": [
    "data.dtypes"
   ]
  },
  {
   "cell_type": "markdown",
   "metadata": {
    "colab_type": "text",
    "id": "51_d-fdNlviE"
   },
   "source": [
    "* Check memory usage of dataframe (bottom of output)"
   ]
  },
  {
   "cell_type": "code",
   "execution_count": 5,
   "metadata": {
    "colab": {
     "base_uri": "https://localhost:8080/",
     "height": 295
    },
    "colab_type": "code",
    "executionInfo": {
     "elapsed": 4910,
     "status": "ok",
     "timestamp": 1587597318279,
     "user": {
      "displayName": "grimmister",
      "photoUrl": "",
      "userId": "11539785123931148346"
     },
     "user_tz": 240
    },
    "id": "XXDkofla0bxq",
    "outputId": "6e01de8c-9b25-4fd3-8f75-c9ba528ca18e"
   },
   "outputs": [
    {
     "name": "stdout",
     "output_type": "stream",
     "text": [
      "<class 'pandas.core.frame.DataFrame'>\n",
      "RangeIndex: 1492368 entries, 0 to 1492367\n",
      "Data columns (total 9 columns):\n",
      " #   Column                 Non-Null Count    Dtype         \n",
      "---  ------                 --------------    -----         \n",
      " 0   trip_id                1492368 non-null  int64         \n",
      " 1   trip_start_time        1492368 non-null  datetime64[ns]\n",
      " 2   trip_stop_time         1492368 non-null  datetime64[ns]\n",
      " 3   trip_duration_seconds  1492368 non-null  float64       \n",
      " 4   from_station_id        1492368 non-null  category      \n",
      " 5   from_station_name      1492368 non-null  category      \n",
      " 6   to_station_id          1492368 non-null  category      \n",
      " 7   to_station_name        1492368 non-null  category      \n",
      " 8   user_type              1492368 non-null  category      \n",
      "dtypes: category(5), datetime64[ns](2), float64(1), int64(1)\n",
      "memory usage: 58.4 MB\n"
     ]
    }
   ],
   "source": [
    "data.info(memory_usage='deep')\n",
    "#memory usage of dataframe"
   ]
  },
  {
   "cell_type": "markdown",
   "metadata": {
    "colab_type": "text",
    "id": "8k8PkW8K09Ea"
   },
   "source": [
    "# Data Analysis"
   ]
  },
  {
   "cell_type": "markdown",
   "metadata": {
    "colab_type": "text",
    "id": "eQXjw7sumq1M"
   },
   "source": [
    "2) The data analysis will be split into 3 parts:\n",
    "  * Business inquiries (general bike usage)\n",
    "  * Monetization (looking at revenue due to overage fees)\n",
    "  * User profiles (generating random user ids and finding groupings for user types, like morning or summer users)"
   ]
  },
  {
   "cell_type": "markdown",
   "metadata": {
    "colab_type": "text",
    "id": "vc_4oGlr7jJL"
   },
   "source": [
    "## Business Inquiries"
   ]
  },
  {
   "cell_type": "markdown",
   "metadata": {
    "colab_type": "text",
    "id": "gd-8mVFxthgz"
   },
   "source": [
    "### Add columns and functions\n",
    "* First we add necessary columns (quarter, months,days etc.) and define functions for later use"
   ]
  },
  {
   "cell_type": "markdown",
   "metadata": {
    "colab_type": "text",
    "id": "l8C4XXJ3rh4l"
   },
   "source": [
    "Add columns for quarter (values from 0-3), month (0-11), monthday (0-28), weekday (0-6) and hour (0-23) based off the trip_start_time column using the according datetime attributes"
   ]
  },
  {
   "cell_type": "code",
   "execution_count": 6,
   "metadata": {
    "colab": {},
    "colab_type": "code",
    "id": "NWQXFL1Q1kED"
   },
   "outputs": [],
   "source": [
    "data['quarter'] = [(x.month-1)//3 for x in data['trip_start_time']]\n",
    "data['month'] = [x.month-1 for x in data['trip_start_time']]\n",
    "data['monthday'] = [x.day-1 for x in data['trip_start_time']]\n",
    "data['weekday'] = [x.weekday() for x in data['trip_start_time']]\n",
    "data['hour'] = [x.hour for x in data['trip_start_time']]\n",
    "# add columns for quarter, month, day of month and day of week (starting at 0)"
   ]
  },
  {
   "cell_type": "markdown",
   "metadata": {
    "colab_type": "text",
    "id": "5HBHfFyHsO6u"
   },
   "source": [
    "Check if columns were added correctly"
   ]
  },
  {
   "cell_type": "code",
   "execution_count": 7,
   "metadata": {
    "colab": {
     "base_uri": "https://localhost:8080/",
     "height": 0
    },
    "colab_type": "code",
    "executionInfo": {
     "elapsed": 20018,
     "status": "ok",
     "timestamp": 1587597333407,
     "user": {
      "displayName": "grimmister",
      "photoUrl": "",
      "userId": "11539785123931148346"
     },
     "user_tz": 240
    },
    "id": "ed7svNEU34Mb",
    "outputId": "fd78dbab-25c6-4f13-bb0b-6a4488e280ed"
   },
   "outputs": [
    {
     "data": {
      "text/html": [
       "<div>\n",
       "<style scoped>\n",
       "    .dataframe tbody tr th:only-of-type {\n",
       "        vertical-align: middle;\n",
       "    }\n",
       "\n",
       "    .dataframe tbody tr th {\n",
       "        vertical-align: top;\n",
       "    }\n",
       "\n",
       "    .dataframe thead th {\n",
       "        text-align: right;\n",
       "    }\n",
       "</style>\n",
       "<table border=\"1\" class=\"dataframe\">\n",
       "  <thead>\n",
       "    <tr style=\"text-align: right;\">\n",
       "      <th></th>\n",
       "      <th>trip_id</th>\n",
       "      <th>trip_start_time</th>\n",
       "      <th>trip_stop_time</th>\n",
       "      <th>trip_duration_seconds</th>\n",
       "      <th>from_station_id</th>\n",
       "      <th>from_station_name</th>\n",
       "      <th>to_station_id</th>\n",
       "      <th>to_station_name</th>\n",
       "      <th>user_type</th>\n",
       "      <th>quarter</th>\n",
       "      <th>month</th>\n",
       "      <th>monthday</th>\n",
       "      <th>weekday</th>\n",
       "      <th>hour</th>\n",
       "    </tr>\n",
       "  </thead>\n",
       "  <tbody>\n",
       "    <tr>\n",
       "      <th>1492366</th>\n",
       "      <td>2383645</td>\n",
       "      <td>2017-12-31 23:49:08</td>\n",
       "      <td>2017-12-31 23:49:34</td>\n",
       "      <td>26.0</td>\n",
       "      <td>7020</td>\n",
       "      <td>Phoebe St / Spadina Ave</td>\n",
       "      <td>7020</td>\n",
       "      <td>Phoebe St / Spadina Ave</td>\n",
       "      <td>Member</td>\n",
       "      <td>3</td>\n",
       "      <td>11</td>\n",
       "      <td>30</td>\n",
       "      <td>6</td>\n",
       "      <td>23</td>\n",
       "    </tr>\n",
       "    <tr>\n",
       "      <th>1492367</th>\n",
       "      <td>2383646</td>\n",
       "      <td>2017-12-31 23:49:41</td>\n",
       "      <td>2017-12-31 23:57:41</td>\n",
       "      <td>480.0</td>\n",
       "      <td>7020</td>\n",
       "      <td>Phoebe St / Spadina Ave</td>\n",
       "      <td>7022</td>\n",
       "      <td>Simcoe St / Queen St W</td>\n",
       "      <td>Member</td>\n",
       "      <td>3</td>\n",
       "      <td>11</td>\n",
       "      <td>30</td>\n",
       "      <td>6</td>\n",
       "      <td>23</td>\n",
       "    </tr>\n",
       "  </tbody>\n",
       "</table>\n",
       "</div>"
      ],
      "text/plain": [
       "         trip_id     trip_start_time      trip_stop_time  \\\n",
       "1492366  2383645 2017-12-31 23:49:08 2017-12-31 23:49:34   \n",
       "1492367  2383646 2017-12-31 23:49:41 2017-12-31 23:57:41   \n",
       "\n",
       "         trip_duration_seconds from_station_id        from_station_name  \\\n",
       "1492366                   26.0            7020  Phoebe St / Spadina Ave   \n",
       "1492367                  480.0            7020  Phoebe St / Spadina Ave   \n",
       "\n",
       "        to_station_id          to_station_name user_type  quarter  month  \\\n",
       "1492366          7020  Phoebe St / Spadina Ave    Member        3     11   \n",
       "1492367          7022   Simcoe St / Queen St W    Member        3     11   \n",
       "\n",
       "         monthday  weekday  hour  \n",
       "1492366        30        6    23  \n",
       "1492367        30        6    23  "
      ]
     },
     "execution_count": 7,
     "metadata": {},
     "output_type": "execute_result"
    }
   ],
   "source": [
    "data.tail(2)"
   ]
  },
  {
   "cell_type": "markdown",
   "metadata": {
    "colab_type": "text",
    "id": "dt1jN-JfsU7C"
   },
   "source": [
    "* The `most_counts_per()`-function groups the dataframe by specified columns and returns the top N counts of the 'trip_id'-column (any other column would suffice as well) for each subgroup\n",
    "* Parameters are: list of groupable column names, and number of top counts per subgroup\n",
    "* groupby object is returned"
   ]
  },
  {
   "cell_type": "code",
   "execution_count": 8,
   "metadata": {
    "colab": {},
    "colab_type": "code",
    "id": "8HH5VHxgjRTO"
   },
   "outputs": [],
   "source": [
    "def most_counts_per(groupby_list,items_per_group=1):\n",
    "    df = data.groupby(groupby_list)['trip_id'].count().groupby(level=0, group_keys=False).nlargest(items_per_group)\n",
    "    return df "
   ]
  },
  {
   "cell_type": "markdown",
   "metadata": {
    "colab_type": "text",
    "id": "j8jnbElKsnz1"
   },
   "source": [
    "* The `most_popular()`-function groups the dataframe by specified columns and returns the top N counts of the 'trip_id'-column (any other column would suffice as well)\n",
    "* Parameters are: list of groupable column names, and number of top counts\n",
    "* dataframe is returned"
   ]
  },
  {
   "cell_type": "code",
   "execution_count": 9,
   "metadata": {
    "colab": {},
    "colab_type": "code",
    "id": "G9Y22-RKqjnN"
   },
   "outputs": [],
   "source": [
    "def most_popular(groupby_list,amount=1):\n",
    "    df = data.groupby(groupby_list)['trip_id'].count().sort_values(ascending=False).head(amount).reset_index()\n",
    "    df.rename(columns = {'trip_id':'counts'}, inplace = True)\n",
    "    return df"
   ]
  },
  {
   "cell_type": "markdown",
   "metadata": {
    "colab_type": "text",
    "id": "MAXbCUAat123"
   },
   "source": [
    "* The `trip_length_per()`-function groups the dataframe by specified columns and returns the specified aggregation for each subgroup\n",
    "* Parameters are: list of groupable column names, and the aggregation method\n",
    "* groupby object is returned"
   ]
  },
  {
   "cell_type": "code",
   "execution_count": 10,
   "metadata": {
    "colab": {},
    "colab_type": "code",
    "id": "Am6iSpmMvh0i"
   },
   "outputs": [],
   "source": [
    "def trip_length_per(groupby_list,agg_method='mean'):\n",
    "    df = data.groupby(groupby_list)['trip_duration_seconds'].agg(agg_method).round()\n",
    "    return df"
   ]
  },
  {
   "cell_type": "markdown",
   "metadata": {
    "colab_type": "text",
    "id": "CA64bR2H1Ksg"
   },
   "source": [
    "### Most popular days of the week by month, quarter\n",
    "\n",
    "**Results:**\n",
    "  * Weekdays seem to be more popular across every month and quarter, with Wednesday being the most popular day in 5/12 months\n",
    "  * The summer months (third quarter) are the most popular in general, due to the nice weather\n",
    "\n"
   ]
  },
  {
   "cell_type": "code",
   "execution_count": 11,
   "metadata": {
    "colab": {
     "base_uri": "https://localhost:8080/",
     "height": 301
    },
    "colab_type": "code",
    "executionInfo": {
     "elapsed": 20615,
     "status": "ok",
     "timestamp": 1587597334041,
     "user": {
      "displayName": "grimmister",
      "photoUrl": "",
      "userId": "11539785123931148346"
     },
     "user_tz": 240
    },
    "id": "ctqvBBYHoV6u",
    "outputId": "51f94776-2d3e-4650-dcf0-df99abd64f69"
   },
   "outputs": [
    {
     "data": {
      "image/png": "[encoded data removed]",
      "text/plain": [
       "<Figure size 432x288 with 1 Axes>"
      ]
     },
     "metadata": {},
     "output_type": "display_data"
    }
   ],
   "source": [
    "plt.rcParams['figure.facecolor'] = 'w'\n",
    "ax = most_counts_per(['month','weekday'],7).unstack().plot(kind='bar',rot=0,width=0.8)\n",
    "plt.xlabel('Month')\n",
    "plt.ylabel('Sum of Trips')\n",
    "plt.title('Cummulative Amount of Trips per Weekday per Month')\n",
    "ax.legend(title='Day of Week')\n",
    "plt.show()\n",
    "\n",
    "#print(most_counts_per(['month','weekday'],7))"
   ]
  },
  {
   "cell_type": "code",
   "execution_count": 12,
   "metadata": {
    "colab": {
     "base_uri": "https://localhost:8080/",
     "height": 301
    },
    "colab_type": "code",
    "executionInfo": {
     "elapsed": 20769,
     "status": "ok",
     "timestamp": 1587597334209,
     "user": {
      "displayName": "grimmister",
      "photoUrl": "",
      "userId": "11539785123931148346"
     },
     "user_tz": 240
    },
    "id": "sgc_8zEZAJNA",
    "outputId": "370a1e15-6968-45a3-ea48-9c5bcbf9c49e"
   },
   "outputs": [
    {
     "data": {
      "image/png": "[encoded data removed]",
      "text/plain": [
       "<Figure size 432x288 with 1 Axes>"
      ]
     },
     "metadata": {},
     "output_type": "display_data"
    }
   ],
   "source": [
    "plt.rcParams['figure.facecolor'] = 'w'\n",
    "ax = most_counts_per(['quarter','weekday'],7).unstack().plot(kind='bar',rot=0,width=0.8)\n",
    "plt.xlabel('Quarter')\n",
    "plt.ylabel('Sum of Trips')\n",
    "plt.title('Cummulative Amount of Trips per Weekday per Quarter')\n",
    "ax.legend(title='Day of Week')\n",
    "plt.show()\n",
    "\n",
    "#print(most_counts_per(['quarter','weekday'],7))"
   ]
  },
  {
   "cell_type": "code",
   "execution_count": 52,
   "metadata": {},
   "outputs": [
    {
     "name": "stdout",
     "output_type": "stream",
     "text": [
      "quarter\n",
      "0    18875.0\n",
      "1    47622.0\n",
      "2    94784.0\n",
      "3    51915.0\n",
      "Name: trip_id, dtype: float64\n"
     ]
    },
    {
     "data": {
      "image/png": "[encoded data removed]",
      "text/plain": [
       "<Figure size 432x288 with 1 Axes>"
      ]
     },
     "metadata": {},
     "output_type": "display_data"
    }
   ],
   "source": [
    "df = data.groupby(['quarter','weekday'])['trip_id'].count().groupby(level=0, group_keys=False).mean()\n",
    "print(df.round(0))\n",
    "df.plot(kind='bar',rot=0,width=0.75,color='b')\n",
    "\n",
    "plt.xlabel('')\n",
    "plt.ylabel('')\n",
    "plt.title('Trips per Quarter')\n",
    "plt.xticks(np.arange(4), ('Q1', 'Q2', 'Q3', 'Q4'))\n",
    "plt.show()"
   ]
  },
  {
   "cell_type": "code",
   "execution_count": 51,
   "metadata": {},
   "outputs": [
    {
     "name": "stdout",
     "output_type": "stream",
     "text": [
      "weekday\n",
      "0    212045\n",
      "1    228686\n",
      "2    253501\n",
      "3    223933\n",
      "4    219743\n",
      "5    182982\n",
      "6    171478\n",
      "Name: trip_id, dtype: int64\n"
     ]
    },
    {
     "data": {
      "image/png": "[encoded data removed]",
      "text/plain": [
       "<Figure size 432x288 with 1 Axes>"
      ]
     },
     "metadata": {},
     "output_type": "display_data"
    }
   ],
   "source": [
    "df = most_counts_per(['weekday'],1)\n",
    "print(df.round(0))\n",
    "\n",
    "df.plot(kind='bar',width=0.75,rot=0,\n",
    "        color=tuple(['b','b','b','b','b','r','r']))\n",
    "\n",
    "plt.xlabel('')\n",
    "# plt.ylabel('Amount of Trips')\n",
    "plt.title('Trips per Weekday')\n",
    "plt.xticks(np.arange(7), ('Mon', 'Tue', 'Wed', 'Thu','Fri','Sat','Sun'))\n",
    "plt.ylim(150000)\n",
    "plt.show()"
   ]
  },
  {
   "cell_type": "markdown",
   "metadata": {
    "colab_type": "text",
    "id": "-dne8VIu2qaF"
   },
   "source": [
    "### Average ride time per day of the week? Month?\n",
    "\n",
    "**Results:**\n",
    "  * Weekend trips are 20+ minutes on average, whereas trips during the week are below 17 minutes\n",
    "  * During the summer months (July-September) trips are long (18+ minutes), where as during the other months they are shorter on average (below 17 minutes)\n"
   ]
  },
  {
   "cell_type": "code",
   "execution_count": 50,
   "metadata": {},
   "outputs": [
    {
     "name": "stdout",
     "output_type": "stream",
     "text": [
      "weekday\n",
      "0    16.2\n",
      "1    14.7\n",
      "2    14.6\n",
      "3    14.5\n",
      "4    15.0\n",
      "5    22.8\n",
      "6    23.8\n",
      "Name: trip_duration_seconds, dtype: float64\n"
     ]
    },
    {
     "data": {
      "image/png": "[encoded data removed]",
      "text/plain": [
       "<Figure size 432x288 with 1 Axes>"
      ]
     },
     "metadata": {},
     "output_type": "display_data"
    }
   ],
   "source": [
    "df = trip_length_per('weekday')/60\n",
    "print(df.round(1))\n",
    "\n",
    "df.plot(kind='bar',width=0.75,rot=0,\n",
    "        color=tuple(['b','b','b','b','b','r','r']))\n",
    "\n",
    "plt.xlabel('')\n",
    "plt.ylabel('Minutes per Trip')\n",
    "plt.title('Trip Length per Weekday')\n",
    "plt.xticks(np.arange(7), ('Mon', 'Tue', 'Wed', 'Thu','Fri','Sat','Sun'))\n",
    "# plt.ylim(500,1500)\n",
    "plt.show()"
   ]
  },
  {
   "cell_type": "code",
   "execution_count": 49,
   "metadata": {},
   "outputs": [
    {
     "name": "stdout",
     "output_type": "stream",
     "text": [
      "quarter\n",
      "0    11.3\n",
      "1    15.9\n",
      "2    20.6\n",
      "3    13.5\n",
      "Name: trip_duration_seconds, dtype: float64\n"
     ]
    },
    {
     "data": {
      "image/png": "[encoded data removed]",
      "text/plain": [
       "<Figure size 432x288 with 1 Axes>"
      ]
     },
     "metadata": {},
     "output_type": "display_data"
    }
   ],
   "source": [
    "df = trip_length_per('quarter')/60\n",
    "print(df.round(1))\n",
    "\n",
    "df.plot(kind='bar',width=0.75,rot=0,color='b')\n",
    "\n",
    "plt.xlabel('')\n",
    "plt.ylabel('Minutes per Trip')\n",
    "plt.title('Trip Length per Quarter')\n",
    "plt.xticks(np.arange(4), ('Q1', 'Q2', 'Q3', 'Q4'))\n",
    "# plt.ylim(500,1500)\n",
    "plt.show()"
   ]
  },
  {
   "cell_type": "markdown",
   "metadata": {
    "colab_type": "text",
    "id": "48WNcZRt4Sk0"
   },
   "source": [
    "### Average daily trips per month\n",
    "\n",
    "**Results:**\n",
    "  * The amount of trips per day during the summer months is higher (2-3 times) as during the other months"
   ]
  },
  {
   "cell_type": "code",
   "execution_count": 17,
   "metadata": {
    "colab": {
     "base_uri": "https://localhost:8080/",
     "height": 527
    },
    "colab_type": "code",
    "executionInfo": {
     "elapsed": 21912,
     "status": "ok",
     "timestamp": 1587597335390,
     "user": {
      "displayName": "grimmister",
      "photoUrl": "",
      "userId": "11539785123931148346"
     },
     "user_tz": 240
    },
    "id": "lM_HgsQNuwzD",
    "outputId": "9d42de1e-50ab-4c65-aea8-17c7c200f888"
   },
   "outputs": [
    {
     "data": {
      "image/png": "[encoded data removed]",
      "text/plain": [
       "<Figure size 432x288 with 1 Axes>"
      ]
     },
     "metadata": {},
     "output_type": "display_data"
    },
    {
     "name": "stdout",
     "output_type": "stream",
     "text": [
      "    month  counts\n",
      "0       0  1333.0\n",
      "1       1  1487.0\n",
      "2       2  1587.0\n",
      "3       3  2634.0\n",
      "4       4  3378.0\n",
      "5       5  4987.0\n",
      "6       6  6890.0\n",
      "7       7  7209.0\n",
      "8       8  7547.0\n",
      "9       9  5986.0\n",
      "10     10  3957.0\n",
      "11     11  1907.0\n"
     ]
    }
   ],
   "source": [
    "data_agg = data.groupby(['month','monthday'])['trip_id'].count().groupby(level=0, group_keys=False).mean().round().reset_index()\n",
    "data_agg.rename(columns = {'trip_id':'counts'}, inplace = True)\n",
    "data_agg\n",
    "\n",
    "sns.lineplot(x=data_agg['month'],y=data_agg['counts'], marker='o')\n",
    "plt.xlabel('Month')\n",
    "plt.ylabel('Average daily trips')\n",
    "plt.title('Average daily trips per Month')\n",
    "# Average daily trip length per Month in seconds\n",
    "plt.show()\n",
    "\n",
    "print(data_agg)"
   ]
  },
  {
   "cell_type": "markdown",
   "metadata": {
    "colab_type": "text",
    "id": "Jcob-Yyk4yaD"
   },
   "source": [
    "### Popular start and end stations\n",
    "\n",
    "**Results:**\n",
    "  * 'Union Station' and 'Simcoe St / Wellington St W' are the most popular as both departure and arrival station\n",
    "  * The drive to 'Union Station' is the most popular event"
   ]
  },
  {
   "cell_type": "code",
   "execution_count": 42,
   "metadata": {
    "colab": {
     "base_uri": "https://localhost:8080/",
     "height": 355
    },
    "colab_type": "code",
    "executionInfo": {
     "elapsed": 21904,
     "status": "ok",
     "timestamp": 1587597335391,
     "user": {
      "displayName": "grimmister",
      "photoUrl": "",
      "userId": "11539785123931148346"
     },
     "user_tz": 240
    },
    "id": "q7dDe_oJsHcn",
    "outputId": "d6e1ce60-a74c-43e7-fc58-50f8148dcee0"
   },
   "outputs": [
    {
     "data": {
      "text/html": [
       "<div>\n",
       "<style scoped>\n",
       "    .dataframe tbody tr th:only-of-type {\n",
       "        vertical-align: middle;\n",
       "    }\n",
       "\n",
       "    .dataframe tbody tr th {\n",
       "        vertical-align: top;\n",
       "    }\n",
       "\n",
       "    .dataframe thead th {\n",
       "        text-align: right;\n",
       "    }\n",
       "</style>\n",
       "<table border=\"1\" class=\"dataframe\">\n",
       "  <thead>\n",
       "    <tr style=\"text-align: right;\">\n",
       "      <th></th>\n",
       "      <th>Station (Start)</th>\n",
       "      <th>Counts</th>\n",
       "    </tr>\n",
       "  </thead>\n",
       "  <tbody>\n",
       "    <tr>\n",
       "      <th>0</th>\n",
       "      <td>Union Station</td>\n",
       "      <td>22143</td>\n",
       "    </tr>\n",
       "    <tr>\n",
       "      <th>1</th>\n",
       "      <td>Simcoe St / Wellington St W</td>\n",
       "      <td>21365</td>\n",
       "    </tr>\n",
       "    <tr>\n",
       "      <th>2</th>\n",
       "      <td>York St / Queens Quay W</td>\n",
       "      <td>19143</td>\n",
       "    </tr>\n",
       "    <tr>\n",
       "      <th>3</th>\n",
       "      <td>Bay St / Wellesley St W</td>\n",
       "      <td>18082</td>\n",
       "    </tr>\n",
       "    <tr>\n",
       "      <th>4</th>\n",
       "      <td>King St W / Spadina Ave</td>\n",
       "      <td>18039</td>\n",
       "    </tr>\n",
       "    <tr>\n",
       "      <th>5</th>\n",
       "      <td>Bay St / College St (East Side)</td>\n",
       "      <td>17381</td>\n",
       "    </tr>\n",
       "    <tr>\n",
       "      <th>6</th>\n",
       "      <td>Queen St W / Portland St</td>\n",
       "      <td>17295</td>\n",
       "    </tr>\n",
       "    <tr>\n",
       "      <th>7</th>\n",
       "      <td>Front St W / Blue Jays Way</td>\n",
       "      <td>16173</td>\n",
       "    </tr>\n",
       "    <tr>\n",
       "      <th>8</th>\n",
       "      <td>Simcoe St / Queen St W</td>\n",
       "      <td>15234</td>\n",
       "    </tr>\n",
       "    <tr>\n",
       "      <th>9</th>\n",
       "      <td>College Park South</td>\n",
       "      <td>15187</td>\n",
       "    </tr>\n",
       "  </tbody>\n",
       "</table>\n",
       "</div>"
      ],
      "text/plain": [
       "                   Station (Start)  Counts\n",
       "0                    Union Station   22143\n",
       "1      Simcoe St / Wellington St W   21365\n",
       "2          York St / Queens Quay W   19143\n",
       "3          Bay St / Wellesley St W   18082\n",
       "4          King St W / Spadina Ave   18039\n",
       "5  Bay St / College St (East Side)   17381\n",
       "6         Queen St W / Portland St   17295\n",
       "7       Front St W / Blue Jays Way   16173\n",
       "8           Simcoe St / Queen St W   15234\n",
       "9               College Park South   15187"
      ]
     },
     "execution_count": 42,
     "metadata": {},
     "output_type": "execute_result"
    }
   ],
   "source": [
    "df = most_popular('from_station_name',10)\n",
    "df.columns = (['Station (Start)','Counts'])\n",
    "df\n",
    "# most poular end stations"
   ]
  },
  {
   "cell_type": "code",
   "execution_count": 43,
   "metadata": {
    "colab": {
     "base_uri": "https://localhost:8080/",
     "height": 355
    },
    "colab_type": "code",
    "executionInfo": {
     "elapsed": 21897,
     "status": "ok",
     "timestamp": 1587597335392,
     "user": {
      "displayName": "grimmister",
      "photoUrl": "",
      "userId": "11539785123931148346"
     },
     "user_tz": 240
    },
    "id": "E73HABNN5ZBj",
    "outputId": "bda53a22-eaf1-4ae6-9555-243278fe9743"
   },
   "outputs": [
    {
     "data": {
      "text/html": [
       "<div>\n",
       "<style scoped>\n",
       "    .dataframe tbody tr th:only-of-type {\n",
       "        vertical-align: middle;\n",
       "    }\n",
       "\n",
       "    .dataframe tbody tr th {\n",
       "        vertical-align: top;\n",
       "    }\n",
       "\n",
       "    .dataframe thead th {\n",
       "        text-align: right;\n",
       "    }\n",
       "</style>\n",
       "<table border=\"1\" class=\"dataframe\">\n",
       "  <thead>\n",
       "    <tr style=\"text-align: right;\">\n",
       "      <th></th>\n",
       "      <th>Station (Finish)</th>\n",
       "      <th>Counts</th>\n",
       "    </tr>\n",
       "  </thead>\n",
       "  <tbody>\n",
       "    <tr>\n",
       "      <th>0</th>\n",
       "      <td>Union Station</td>\n",
       "      <td>29228</td>\n",
       "    </tr>\n",
       "    <tr>\n",
       "      <th>1</th>\n",
       "      <td>Simcoe St / Wellington St W</td>\n",
       "      <td>22809</td>\n",
       "    </tr>\n",
       "    <tr>\n",
       "      <th>2</th>\n",
       "      <td>York St / Queens Quay W</td>\n",
       "      <td>20768</td>\n",
       "    </tr>\n",
       "    <tr>\n",
       "      <th>3</th>\n",
       "      <td>King St W / Spadina Ave</td>\n",
       "      <td>19521</td>\n",
       "    </tr>\n",
       "    <tr>\n",
       "      <th>4</th>\n",
       "      <td>Queen St W / Portland St</td>\n",
       "      <td>17872</td>\n",
       "    </tr>\n",
       "    <tr>\n",
       "      <th>5</th>\n",
       "      <td>Bay St / College St (East Side)</td>\n",
       "      <td>17100</td>\n",
       "    </tr>\n",
       "    <tr>\n",
       "      <th>6</th>\n",
       "      <td>Phoebe St / Spadina Ave</td>\n",
       "      <td>16093</td>\n",
       "    </tr>\n",
       "    <tr>\n",
       "      <th>7</th>\n",
       "      <td>Front St W / Blue Jays Way</td>\n",
       "      <td>16075</td>\n",
       "    </tr>\n",
       "    <tr>\n",
       "      <th>8</th>\n",
       "      <td>Bay St / Queens Quay W (Ferry Terminal)</td>\n",
       "      <td>16029</td>\n",
       "    </tr>\n",
       "    <tr>\n",
       "      <th>9</th>\n",
       "      <td>Bay St / Albert St</td>\n",
       "      <td>15780</td>\n",
       "    </tr>\n",
       "  </tbody>\n",
       "</table>\n",
       "</div>"
      ],
      "text/plain": [
       "                          Station (Finish)  Counts\n",
       "0                            Union Station   29228\n",
       "1              Simcoe St / Wellington St W   22809\n",
       "2                  York St / Queens Quay W   20768\n",
       "3                  King St W / Spadina Ave   19521\n",
       "4                 Queen St W / Portland St   17872\n",
       "5          Bay St / College St (East Side)   17100\n",
       "6                  Phoebe St / Spadina Ave   16093\n",
       "7               Front St W / Blue Jays Way   16075\n",
       "8  Bay St / Queens Quay W (Ferry Terminal)   16029\n",
       "9                       Bay St / Albert St   15780"
      ]
     },
     "execution_count": 43,
     "metadata": {},
     "output_type": "execute_result"
    }
   ],
   "source": [
    "df = most_popular('to_station_name',10)\n",
    "df.columns = (['Station (Finish)','Counts'])\n",
    "df\n",
    "# most poular end stations"
   ]
  },
  {
   "cell_type": "markdown",
   "metadata": {
    "colab_type": "text",
    "id": "noT4RsRz5xkJ"
   },
   "source": [
    "### Total usage/mileage/time among user profile groups\n",
    "**Results:**\n",
    "  * Members use the bikes about 3 times as often as casual users in total\n",
    "  * However the total trip times are almost the same (Members driving slighty longer in total), indicating much longer individual trip times for casual bikers\n",
    "  * *Members most likely use their bikes for trips to work, casuals to explore the city*"
   ]
  },
  {
   "cell_type": "code",
   "execution_count": 47,
   "metadata": {
    "colab": {
     "base_uri": "https://localhost:8080/",
     "height": 371
    },
    "colab_type": "code",
    "executionInfo": {
     "elapsed": 22034,
     "status": "ok",
     "timestamp": 1587597335551,
     "user": {
      "displayName": "grimmister",
      "photoUrl": "",
      "userId": "11539785123931148346"
     },
     "user_tz": 240
    },
    "id": "QvFVAprcgwXb",
    "outputId": "31334d5f-8f7b-433b-af7f-f5bd0c7df66e"
   },
   "outputs": [
    {
     "data": {
      "image/png": "[encoded data removed]",
      "text/plain": [
       "<Figure size 432x288 with 1 Axes>"
      ]
     },
     "metadata": {},
     "output_type": "display_data"
    },
    {
     "name": "stdout",
     "output_type": "stream",
     "text": [
      "user_type\n",
      "Casual     327584\n",
      "Member    1164784\n",
      "Name: trip_id, dtype: int64\n"
     ]
    }
   ],
   "source": [
    "most_counts_per('user_type').plot.bar(rot=0)\n",
    "plt.xlabel('User Type')\n",
    "plt.ylabel('Total Usage')\n",
    "plt.title('Total Usage by User Type')\n",
    "plt.show()\n",
    "\n",
    "print(most_counts_per('user_type'))\n",
    "#total amount of trips per user_type"
   ]
  },
  {
   "cell_type": "code",
   "execution_count": 48,
   "metadata": {
    "colab": {
     "base_uri": "https://localhost:8080/",
     "height": 371
    },
    "colab_type": "code",
    "executionInfo": {
     "elapsed": 22301,
     "status": "ok",
     "timestamp": 1587597335837,
     "user": {
      "displayName": "grimmister",
      "photoUrl": "",
      "userId": "11539785123931148346"
     },
     "user_tz": 240
    },
    "id": "GZbtreqCwf2E",
    "outputId": "f80d4bb0-a0bd-46de-b15d-8440632f7867"
   },
   "outputs": [
    {
     "data": {
      "image/png": "[encoded data removed]",
      "text/plain": [
       "<Figure size 432x288 with 1 Axes>"
      ]
     },
     "metadata": {},
     "output_type": "display_data"
    },
    {
     "name": "stdout",
     "output_type": "stream",
     "text": [
      "user_type\n",
      "Casual    719238903.0\n",
      "Member    799419561.0\n",
      "Name: trip_duration_seconds, dtype: float64\n"
     ]
    }
   ],
   "source": [
    "trip_length_per('user_type','sum').plot.bar(rot=0)\n",
    "plt.xlabel('User Type')\n",
    "plt.ylabel('Total Trip Time')\n",
    "plt.title('Total Trip Time by User Type')\n",
    "plt.show()\n",
    "\n",
    "print(trip_length_per('user_type','sum'))\n",
    "#total trip time per user_type group in days"
   ]
  },
  {
   "cell_type": "markdown",
   "metadata": {
    "colab_type": "text",
    "id": "fwziSCTe6Z4X"
   },
   "source": [
    "### Insights into the most popular routes\n",
    "**Results:**\n",
    "  * The three most popular routes all were round trips:\n",
    "    * Ontario Place Blvd / Remembrance Dr\n",
    "    * Bay St / Queens Quay W (Ferry Terminal)\n",
    "    * York St / Queens Quay W"
   ]
  },
  {
   "cell_type": "code",
   "execution_count": 44,
   "metadata": {
    "colab": {
     "base_uri": "https://localhost:8080/",
     "height": 355
    },
    "colab_type": "code",
    "executionInfo": {
     "elapsed": 23456,
     "status": "ok",
     "timestamp": 1587597337011,
     "user": {
      "displayName": "grimmister",
      "photoUrl": "",
      "userId": "11539785123931148346"
     },
     "user_tz": 240
    },
    "id": "wv6M3dlvs6dK",
    "outputId": "71c453c9-ef9e-4c4f-9bed-5cda5799324e"
   },
   "outputs": [
    {
     "data": {
      "text/html": [
       "<div>\n",
       "<style scoped>\n",
       "    .dataframe tbody tr th:only-of-type {\n",
       "        vertical-align: middle;\n",
       "    }\n",
       "\n",
       "    .dataframe tbody tr th {\n",
       "        vertical-align: top;\n",
       "    }\n",
       "\n",
       "    .dataframe thead th {\n",
       "        text-align: right;\n",
       "    }\n",
       "</style>\n",
       "<table border=\"1\" class=\"dataframe\">\n",
       "  <thead>\n",
       "    <tr style=\"text-align: right;\">\n",
       "      <th></th>\n",
       "      <th>Station (Start)</th>\n",
       "      <th>Station (Finish)</th>\n",
       "      <th>Counts</th>\n",
       "    </tr>\n",
       "  </thead>\n",
       "  <tbody>\n",
       "    <tr>\n",
       "      <th>0</th>\n",
       "      <td>Ontario Place Blvd / Remembrance Dr</td>\n",
       "      <td>Ontario Place Blvd / Remembrance Dr</td>\n",
       "      <td>3802</td>\n",
       "    </tr>\n",
       "    <tr>\n",
       "      <th>1</th>\n",
       "      <td>Bay St / Queens Quay W (Ferry Terminal)</td>\n",
       "      <td>Bay St / Queens Quay W (Ferry Terminal)</td>\n",
       "      <td>3468</td>\n",
       "    </tr>\n",
       "    <tr>\n",
       "      <th>2</th>\n",
       "      <td>York St / Queens Quay W</td>\n",
       "      <td>York St / Queens Quay W</td>\n",
       "      <td>2333</td>\n",
       "    </tr>\n",
       "    <tr>\n",
       "      <th>3</th>\n",
       "      <td>Front St W / Blue Jays Way</td>\n",
       "      <td>Union Station</td>\n",
       "      <td>1956</td>\n",
       "    </tr>\n",
       "    <tr>\n",
       "      <th>4</th>\n",
       "      <td>HTO Park (Queens Quay W)</td>\n",
       "      <td>HTO Park (Queens Quay W)</td>\n",
       "      <td>1366</td>\n",
       "    </tr>\n",
       "    <tr>\n",
       "      <th>5</th>\n",
       "      <td>Queens Quay / Yonge St</td>\n",
       "      <td>Queens Quay / Yonge St</td>\n",
       "      <td>1239</td>\n",
       "    </tr>\n",
       "    <tr>\n",
       "      <th>6</th>\n",
       "      <td>Queens Quay W / Lower Simcoe St</td>\n",
       "      <td>Queens Quay W / Lower Simcoe St</td>\n",
       "      <td>1184</td>\n",
       "    </tr>\n",
       "    <tr>\n",
       "      <th>7</th>\n",
       "      <td>Dockside Dr / Queens Quay E (Sugar Beach)</td>\n",
       "      <td>Dockside Dr / Queens Quay E (Sugar Beach)</td>\n",
       "      <td>1174</td>\n",
       "    </tr>\n",
       "    <tr>\n",
       "      <th>8</th>\n",
       "      <td>Bremner Blvd / Rees St</td>\n",
       "      <td>Bremner Blvd / Rees St</td>\n",
       "      <td>1156</td>\n",
       "    </tr>\n",
       "    <tr>\n",
       "      <th>9</th>\n",
       "      <td>Queens Quay W / Dan Leckie Way</td>\n",
       "      <td>Queens Quay W / Dan Leckie Way</td>\n",
       "      <td>1149</td>\n",
       "    </tr>\n",
       "  </tbody>\n",
       "</table>\n",
       "</div>"
      ],
      "text/plain": [
       "                             Station (Start)  \\\n",
       "0        Ontario Place Blvd / Remembrance Dr   \n",
       "1    Bay St / Queens Quay W (Ferry Terminal)   \n",
       "2                    York St / Queens Quay W   \n",
       "3                 Front St W / Blue Jays Way   \n",
       "4                   HTO Park (Queens Quay W)   \n",
       "5                     Queens Quay / Yonge St   \n",
       "6            Queens Quay W / Lower Simcoe St   \n",
       "7  Dockside Dr / Queens Quay E (Sugar Beach)   \n",
       "8                     Bremner Blvd / Rees St   \n",
       "9             Queens Quay W / Dan Leckie Way   \n",
       "\n",
       "                            Station (Finish)  Counts  \n",
       "0        Ontario Place Blvd / Remembrance Dr    3802  \n",
       "1    Bay St / Queens Quay W (Ferry Terminal)    3468  \n",
       "2                    York St / Queens Quay W    2333  \n",
       "3                              Union Station    1956  \n",
       "4                   HTO Park (Queens Quay W)    1366  \n",
       "5                     Queens Quay / Yonge St    1239  \n",
       "6            Queens Quay W / Lower Simcoe St    1184  \n",
       "7  Dockside Dr / Queens Quay E (Sugar Beach)    1174  \n",
       "8                     Bremner Blvd / Rees St    1156  \n",
       "9             Queens Quay W / Dan Leckie Way    1149  "
      ]
     },
     "execution_count": 44,
     "metadata": {},
     "output_type": "execute_result"
    }
   ],
   "source": [
    "df = most_popular(['from_station_name','to_station_name'],10)\n",
    "\n",
    "df.columns = ['Station (Start)','Station (Finish)','Counts']\n",
    "\n",
    "df\n",
    "# most popular routes"
   ]
  },
  {
   "cell_type": "markdown",
   "metadata": {
    "colab_type": "text",
    "id": "PC8pAHN87WvQ"
   },
   "source": [
    "## Monetization"
   ]
  },
  {
   "cell_type": "markdown",
   "metadata": {
    "colab_type": "text",
    "id": "yrTIT24Stbo8"
   },
   "source": [
    "### Add columns _/\n",
    "  * Add columns for overage type (Type 1 - Type 5, as specified in briefing) and amount of money made through overage fees as per briefing"
   ]
  },
  {
   "cell_type": "code",
   "execution_count": 23,
   "metadata": {
    "colab": {},
    "colab_type": "code",
    "id": "dprUplre76gK"
   },
   "outputs": [],
   "source": [
    "money_list = []\n",
    "overage_list = []\n",
    "\n",
    "for each in data['trip_duration_seconds']:\n",
    "    if each/60/30 > 4:\n",
    "        money_list.append(16)\n",
    "        overage_list.append('Type 5')\n",
    "    elif each/60/30 > 3:\n",
    "        money_list.append(12)\n",
    "        overage_list.append('Type 4')\n",
    "    elif each/60/30 > 2:\n",
    "        money_list.append(8)\n",
    "        overage_list.append('Type 3')\n",
    "    elif each/60/30 > 1:\n",
    "        money_list.append(4)\n",
    "        overage_list.append('Type 2')\n",
    "    else:\n",
    "        money_list.append(0)\n",
    "        overage_list.append('Type 1')\n",
    "\n",
    "data['money'] = money_list\n",
    "data['overage'] = overage_list\n",
    "\n",
    "data['overage'] = data['overage'].astype('category')\n",
    "\n",
    "#Add columns for overage type and amount of money made through overage fees"
   ]
  },
  {
   "cell_type": "markdown",
   "metadata": {
    "colab_type": "text",
    "id": "kRy8XmMg8A6G"
   },
   "source": [
    "### Total overage trips\n",
    "\n",
    "**Results:**\n",
    "  * Casuals seem to have more overage trips than members, however 93% of all trips are without overage\n",
    "  * *Members seem to avoid overage fees, Casuals have more extensive trips (more type 5 casuals than total members with overage fees)*"
   ]
  },
  {
   "cell_type": "code",
   "execution_count": 24,
   "metadata": {
    "colab": {
     "base_uri": "https://localhost:8080/",
     "height": 35
    },
    "colab_type": "code",
    "executionInfo": {
     "elapsed": 24932,
     "status": "ok",
     "timestamp": 1587597338506,
     "user": {
      "displayName": "grimmister",
      "photoUrl": "",
      "userId": "11539785123931148346"
     },
     "user_tz": 240
    },
    "id": "Gcr1U_EG4N3h",
    "outputId": "87a549ce-ea67-4f06-c92a-5d2ff66bef26"
   },
   "outputs": [
    {
     "data": {
      "text/plain": [
       "0.935695485295852"
      ]
     },
     "execution_count": 24,
     "metadata": {},
     "output_type": "execute_result"
    }
   ],
   "source": [
    "most_counts_per(['overage']).reset_index()['trip_id'][0] / data.shape[0]\n",
    "\n",
    "# Percentage of trips without overage fee"
   ]
  },
  {
   "cell_type": "code",
   "execution_count": 46,
   "metadata": {},
   "outputs": [
    {
     "name": "stdout",
     "output_type": "stream",
     "text": [
      "user_type  Casual   Member\n",
      "overage                   \n",
      "Type 1     246733  1149669\n",
      "Type 2      42108    12882\n",
      "Type 3      13366     1071\n",
      "Type 4       8477      391\n",
      "Type 5      16900      771\n"
     ]
    },
    {
     "data": {
      "image/png": "[encoded data removed]",
      "text/plain": [
       "<Figure size 432x288 with 1 Axes>"
      ]
     },
     "metadata": {},
     "output_type": "display_data"
    }
   ],
   "source": [
    "df = most_counts_per(['overage','user_type'],5).unstack()\n",
    "print(df.round(0))\n",
    "df.plot(kind='bar',rot=0,width=0.75,\n",
    "        color = ['b','r'])\n",
    "\n",
    "\n",
    "plt.xlabel('')\n",
    "plt.ylabel('')\n",
    "plt.title('Trips per Overage Category')\n",
    "plt.legend(title='User Type')\n",
    "plt.show()\n",
    "# Amount of overage trips of different types, split for members and casual users"
   ]
  },
  {
   "cell_type": "markdown",
   "metadata": {
    "colab_type": "text",
    "id": "j3Pk2kd88N3j"
   },
   "source": [
    "### Money made through overage\n",
    "**Results:**\n",
    "  * Casuals pay the most (89% of all overage fees), with most of them having type 5 overage\n",
    "  * Members generally avoid overage fees, most of them being type 1"
   ]
  },
  {
   "cell_type": "code",
   "execution_count": 26,
   "metadata": {
    "colab": {
     "base_uri": "https://localhost:8080/",
     "height": 35
    },
    "colab_type": "code",
    "executionInfo": {
     "elapsed": 25485,
     "status": "ok",
     "timestamp": 1587597339084,
     "user": {
      "displayName": "grimmister",
      "photoUrl": "",
      "userId": "11539785123931148346"
     },
     "user_tz": 240
    },
    "id": "fkY23Cx364WL",
    "outputId": "c24b6ef7-6045-48a4-e594-8cb76b6eecf3"
   },
   "outputs": [
    {
     "data": {
      "text/plain": [
       "0.8935645204027557"
      ]
     },
     "execution_count": 26,
     "metadata": {},
     "output_type": "execute_result"
    }
   ],
   "source": [
    "data.groupby(['user_type'])['money'].sum()[0] / data['money'].sum()\n",
    "# Percentage of overage fees paid by casual users"
   ]
  },
  {
   "cell_type": "code",
   "execution_count": 53,
   "metadata": {},
   "outputs": [
    {
     "name": "stdout",
     "output_type": "stream",
     "text": [
      "user_type  Casual  Member\n",
      "overage                  \n",
      "Type 1          0       0\n",
      "Type 2     168432   51528\n",
      "Type 3     106928    8568\n",
      "Type 4     101724    4692\n",
      "Type 5     270400   12336\n"
     ]
    },
    {
     "data": {
      "image/png": "[encoded data removed]",
      "text/plain": [
       "<Figure size 432x288 with 1 Axes>"
      ]
     },
     "metadata": {},
     "output_type": "display_data"
    }
   ],
   "source": [
    "df = data.groupby(['overage','user_type'])['money'].sum().unstack()\n",
    "print(df.round(0))\n",
    "df.plot(kind='bar',rot=0,width=0.75,\n",
    "        color = ['b','r'])\n",
    "\n",
    "plt.xlabel('')\n",
    "plt.ylabel('Total Amount [CAD]')\n",
    "plt.title('Overage Fees per Category')\n",
    "plt.legend(title='User Type')\n",
    "plt.show()\n",
    "# Total amount of all overage fees per user type and overage fee type, split for members and casual users"
   ]
  },
  {
   "cell_type": "markdown",
   "metadata": {
    "colab_type": "text",
    "id": "WVHGyy3p9OSJ"
   },
   "source": [
    "## User profiles\n",
    "Observe and report on the effect of the user base over the year. Can you make projections for this into the next year?"
   ]
  },
  {
   "cell_type": "markdown",
   "metadata": {
    "colab_type": "text",
    "id": "NHz63I3Jh8sp"
   },
   "source": [
    "The idea here is to assign every trip of a member a random user id. I chose to go with 6000 unique user ids, that gives each member an average of about 150 trips per year, so about one every two days. \n",
    "\n",
    "I chose a normal distribution for the random integers assigned to each member.\n",
    "\n",
    "We can use these user ids in order to track bike usage on a user basis and see if there are different types of user groups."
   ]
  },
  {
   "cell_type": "code",
   "execution_count": 28,
   "metadata": {
    "colab": {},
    "colab_type": "code",
    "id": "Ka96lPsC7Vp9"
   },
   "outputs": [],
   "source": [
    "user_id_list = []\n",
    "np.random.seed(12)\n",
    "\n",
    "for each in range(data.shape[0]):\n",
    "\n",
    "  if data['user_type'][each] == 'Casual':\n",
    "    user_id = 0\n",
    "  else:\n",
    "    user_id = 0\n",
    "    while user_id < 1 or 6000 < user_id:\n",
    "      user_id = int(np.random.normal(3000, 1200))\n",
    "  \n",
    "  user_id_list.append(user_id)\n",
    "\n",
    "data['user_id'] = user_id_list"
   ]
  },
  {
   "cell_type": "markdown",
   "metadata": {
    "colab_type": "text",
    "id": "wBviZXmYpt76"
   },
   "source": [
    "The trips per user vary between 6 and 457, which is less than 2 per day for the most frequent user"
   ]
  },
  {
   "cell_type": "code",
   "execution_count": 29,
   "metadata": {
    "colab": {
     "base_uri": "https://localhost:8080/",
     "height": 225
    },
    "colab_type": "code",
    "executionInfo": {
     "elapsed": 47297,
     "status": "ok",
     "timestamp": 1587597361071,
     "user": {
      "displayName": "grimmister",
      "photoUrl": "",
      "userId": "11539785123931148346"
     },
     "user_tz": 240
    },
    "id": "Fqfa4CE3GXlf",
    "outputId": "8e681d84-cb3f-402c-a8de-df5d34292862"
   },
   "outputs": [
    {
     "data": {
      "text/plain": [
       "0       327584\n",
       "2969       457\n",
       "3134       453\n",
       "3050       452\n",
       "2734       452\n",
       "         ...  \n",
       "24          11\n",
       "5905         9\n",
       "26           9\n",
       "5944         9\n",
       "3            6\n",
       "Name: user_id, Length: 6001, dtype: int64"
      ]
     },
     "execution_count": 29,
     "metadata": {},
     "output_type": "execute_result"
    }
   ],
   "source": [
    "data['user_id'].value_counts()"
   ]
  },
  {
   "cell_type": "markdown",
   "metadata": {
    "colab_type": "text",
    "id": "qWVVlMXGp8nG"
   },
   "source": [
    "As mentioned above, the amount of trips are normally distributed among the user ids. The large peak at 0 comes from the trips of casual members as they were assigned a user id of 0."
   ]
  },
  {
   "cell_type": "code",
   "execution_count": 30,
   "metadata": {
    "colab": {
     "base_uri": "https://localhost:8080/",
     "height": 268
    },
    "colab_type": "code",
    "executionInfo": {
     "elapsed": 47790,
     "status": "ok",
     "timestamp": 1587597361573,
     "user": {
      "displayName": "grimmister",
      "photoUrl": "",
      "userId": "11539785123931148346"
     },
     "user_tz": 240
    },
    "id": "0ld7A3e_OJl6",
    "outputId": "556e6e77-4abf-47e9-b701-cfdaf2a90b60"
   },
   "outputs": [
    {
     "data": {
      "image/png": "[encoded data removed]",
      "text/plain": [
       "<Figure size 432x288 with 1 Axes>"
      ]
     },
     "metadata": {},
     "output_type": "display_data"
    }
   ],
   "source": [
    "plt.hist(data['user_id'])\n",
    "plt.show()"
   ]
  },
  {
   "cell_type": "markdown",
   "metadata": {
    "colab_type": "text",
    "id": "oDBLi51GF1oE"
   },
   "source": [
    "We see the amount of users goes up during the summer months, as do the number of trips. However they do not return to the same value at the end of the year as they were at the beginning. *This might indicate an increase in users over the years.*\n",
    "\n",
    "* We could group the users into the two groups of summer and all year around users."
   ]
  },
  {
   "cell_type": "code",
   "execution_count": 31,
   "metadata": {
    "colab": {
     "base_uri": "https://localhost:8080/",
     "height": 301
    },
    "colab_type": "code",
    "executionInfo": {
     "elapsed": 48877,
     "status": "ok",
     "timestamp": 1587597362667,
     "user": {
      "displayName": "grimmister",
      "photoUrl": "",
      "userId": "11539785123931148346"
     },
     "user_tz": 240
    },
    "id": "7Uyi6SJNBfnM",
    "outputId": "47ea653e-0ef0-4d50-f927-51eb34e6e0f0"
   },
   "outputs": [
    {
     "data": {
      "image/png": "[encoded data removed]",
      "text/plain": [
       "<Figure size 432x288 with 2 Axes>"
      ]
     },
     "metadata": {},
     "output_type": "display_data"
    }
   ],
   "source": [
    "# create figure and axis objects with subplots()\n",
    "fig,ax=plt.subplots()\n",
    "# make a plot\n",
    "ax.plot(data.groupby(['month','trip_id'])['trip_id'].count().groupby(level=0).count(), marker='o',color=\"red\")\n",
    "# set x-axis label\n",
    "ax.set_xlabel(\"Month\")\n",
    "# set y-axis label\n",
    "ax.set_ylabel(\"Total Amount of Trips\",color=\"red\")\n",
    "\n",
    "# twin object for two different y-axis on the sample plot\n",
    "ax2=ax.twinx()\n",
    "# make a plot with different y-axis using second axis object\n",
    "ax2.plot(data.groupby(['month','user_id'])['user_id'].count().groupby(level=0).count(), marker='o',color=\"blue\")\n",
    "ax2.set_ylabel(\"Total Amount of Users\",color=\"blue\")\n",
    "\n",
    "plt.title('Total Amount of Trips and Users per Month')\n",
    "\n",
    "plt.show()"
   ]
  },
  {
   "cell_type": "markdown",
   "metadata": {
    "colab_type": "text",
    "id": "4YJCpNy5GllE"
   },
   "source": [
    "There is a low amount of trips and users during the early hours of the day. After 7am the amount of trips and users increases. The amount of trips peaks at 5pm, probably due to people taking the bikes home from work. We see a consistent amount of users throughout the day after 7am.\n",
    "\n",
    "* We can group the users into night/morning users and day time users"
   ]
  },
  {
   "cell_type": "code",
   "execution_count": 32,
   "metadata": {
    "colab": {
     "base_uri": "https://localhost:8080/",
     "height": 301
    },
    "colab_type": "code",
    "executionInfo": {
     "elapsed": 50172,
     "status": "ok",
     "timestamp": 1587597363971,
     "user": {
      "displayName": "grimmister",
      "photoUrl": "",
      "userId": "11539785123931148346"
     },
     "user_tz": 240
    },
    "id": "4na222N5Dv8r",
    "outputId": "3cb01aa5-9cb4-4f5d-e986-0c6b7fb822ed"
   },
   "outputs": [
    {
     "data": {
      "image/png": "[encoded data removed]",
      "text/plain": [
       "<Figure size 432x288 with 2 Axes>"
      ]
     },
     "metadata": {},
     "output_type": "display_data"
    }
   ],
   "source": [
    "# create figure and axis objects with subplots()\n",
    "fig,ax=plt.subplots()\n",
    "# make a plot\n",
    "ax.plot(data.groupby(['hour','trip_id'])['trip_id'].count().groupby(level=0).count(), marker='o',color=\"red\")\n",
    "# set x-axis label\n",
    "ax.set_xlabel(\"Hour\")\n",
    "# set y-axis label\n",
    "ax.set_ylabel(\"Total Amount of Trips\",color=\"red\")\n",
    "\n",
    "# twin object for two different y-axis on the sample plot\n",
    "ax2=ax.twinx()\n",
    "# make a plot with different y-axis using second axis object\n",
    "ax2.plot(data.groupby(['hour','user_id'])['user_id'].count().groupby(level=0).count(), marker='o',color=\"blue\")\n",
    "ax2.set_ylabel(\"Total Amount of Users\",color=\"blue\")\n",
    "\n",
    "plt.title('Total Amount of Trips and Users per Hour')\n",
    "\n",
    "plt.show()"
   ]
  },
  {
   "cell_type": "markdown",
   "metadata": {
    "colab_type": "text",
    "id": "aERTqIamJ1Xy"
   },
   "source": [
    "**Projections**\n",
    "* The total amount of users and trips will increase next year, as it hasn't dropped to the level at the beginning of the year\n",
    "* Trip numbers go up during the summer and down during the night"
   ]
  },
  {
   "cell_type": "markdown",
   "metadata": {
    "colab_type": "text",
    "id": "Ybb7GdhOLuC2"
   },
   "source": [
    "# SQL"
   ]
  },
  {
   "cell_type": "markdown",
   "metadata": {
    "colab_type": "text",
    "id": "iKg5oSc-7ccS"
   },
   "source": [
    "* I split up the original bike share data into three separate tables, reducing the size of the original table, by eliminating the station ids and user types\n",
    "* The ids are stored into two separate tables with the station names and user ids as primary keys"
   ]
  },
  {
   "cell_type": "code",
   "execution_count": 33,
   "metadata": {
    "colab": {
     "base_uri": "https://localhost:8080/",
     "height": 0
    },
    "colab_type": "code",
    "executionInfo": {
     "elapsed": 51318,
     "status": "ok",
     "timestamp": 1587597365126,
     "user": {
      "displayName": "grimmister",
      "photoUrl": "",
      "userId": "11539785123931148346"
     },
     "user_tz": 240
    },
    "id": "isFOdMNG8scm",
    "outputId": "4d1babce-02b7-437b-b618-3c9c4a961da4"
   },
   "outputs": [
    {
     "data": {
      "text/html": [
       "<div>\n",
       "<style scoped>\n",
       "    .dataframe tbody tr th:only-of-type {\n",
       "        vertical-align: middle;\n",
       "    }\n",
       "\n",
       "    .dataframe tbody tr th {\n",
       "        vertical-align: top;\n",
       "    }\n",
       "\n",
       "    .dataframe thead th {\n",
       "        text-align: right;\n",
       "    }\n",
       "</style>\n",
       "<table border=\"1\" class=\"dataframe\">\n",
       "  <thead>\n",
       "    <tr style=\"text-align: right;\">\n",
       "      <th></th>\n",
       "      <th>from_station_name</th>\n",
       "      <th>from_station_id</th>\n",
       "      <th>trip_id</th>\n",
       "    </tr>\n",
       "  </thead>\n",
       "  <tbody>\n",
       "    <tr>\n",
       "      <th>0</th>\n",
       "      <td>111 Bond St (North of Dundas St E)  - SMART</td>\n",
       "      <td>0</td>\n",
       "      <td>718</td>\n",
       "    </tr>\n",
       "    <tr>\n",
       "      <th>1</th>\n",
       "      <td>161 Bleecker St (South of Wellesley)</td>\n",
       "      <td>7071</td>\n",
       "      <td>3015</td>\n",
       "    </tr>\n",
       "    <tr>\n",
       "      <th>2</th>\n",
       "      <td>25 York St (ACC/Union Station South)</td>\n",
       "      <td>7070</td>\n",
       "      <td>7436</td>\n",
       "    </tr>\n",
       "    <tr>\n",
       "      <th>3</th>\n",
       "      <td>424 Wellington St W</td>\n",
       "      <td>0</td>\n",
       "      <td>2833</td>\n",
       "    </tr>\n",
       "    <tr>\n",
       "      <th>4</th>\n",
       "      <td>424 Wellington St. W</td>\n",
       "      <td>7123</td>\n",
       "      <td>3136</td>\n",
       "    </tr>\n",
       "    <tr>\n",
       "      <th>...</th>\n",
       "      <td>...</td>\n",
       "      <td>...</td>\n",
       "      <td>...</td>\n",
       "    </tr>\n",
       "    <tr>\n",
       "      <th>288</th>\n",
       "      <td>Yonge St / Harbour St</td>\n",
       "      <td>7067</td>\n",
       "      <td>7071</td>\n",
       "    </tr>\n",
       "    <tr>\n",
       "      <th>289</th>\n",
       "      <td>Yonge St / Wood St</td>\n",
       "      <td>7163</td>\n",
       "      <td>7564</td>\n",
       "    </tr>\n",
       "    <tr>\n",
       "      <th>290</th>\n",
       "      <td>Yonge St / Yorkville Ave</td>\n",
       "      <td>7126</td>\n",
       "      <td>6462</td>\n",
       "    </tr>\n",
       "    <tr>\n",
       "      <th>291</th>\n",
       "      <td>York St / King St W - SMART</td>\n",
       "      <td>0</td>\n",
       "      <td>2423</td>\n",
       "    </tr>\n",
       "    <tr>\n",
       "      <th>292</th>\n",
       "      <td>York St / Queens Quay W</td>\n",
       "      <td>7076</td>\n",
       "      <td>19143</td>\n",
       "    </tr>\n",
       "  </tbody>\n",
       "</table>\n",
       "<p>293 rows × 3 columns</p>\n",
       "</div>"
      ],
      "text/plain": [
       "                               from_station_name from_station_id  trip_id\n",
       "0    111 Bond St (North of Dundas St E)  - SMART               0      718\n",
       "1           161 Bleecker St (South of Wellesley)            7071     3015\n",
       "2           25 York St (ACC/Union Station South)            7070     7436\n",
       "3                            424 Wellington St W               0     2833\n",
       "4                           424 Wellington St. W            7123     3136\n",
       "..                                           ...             ...      ...\n",
       "288                        Yonge St / Harbour St            7067     7071\n",
       "289                           Yonge St / Wood St            7163     7564\n",
       "290                     Yonge St / Yorkville Ave            7126     6462\n",
       "291                  York St / King St W - SMART               0     2423\n",
       "292                      York St / Queens Quay W            7076    19143\n",
       "\n",
       "[293 rows x 3 columns]"
      ]
     },
     "execution_count": 33,
     "metadata": {},
     "output_type": "execute_result"
    }
   ],
   "source": [
    "most_counts_per(['from_station_name','from_station_id']).reset_index()"
   ]
  },
  {
   "cell_type": "code",
   "execution_count": 34,
   "metadata": {
    "colab": {
     "base_uri": "https://localhost:8080/",
     "height": 0
    },
    "colab_type": "code",
    "executionInfo": {
     "elapsed": 52423,
     "status": "ok",
     "timestamp": 1587597366238,
     "user": {
      "displayName": "grimmister",
      "photoUrl": "",
      "userId": "11539785123931148346"
     },
     "user_tz": 240
    },
    "id": "z_2hRqNaEqPW",
    "outputId": "336c1eda-2e08-41f9-9fd1-f71cd6e06830"
   },
   "outputs": [
    {
     "data": {
      "text/html": [
       "<div>\n",
       "<style scoped>\n",
       "    .dataframe tbody tr th:only-of-type {\n",
       "        vertical-align: middle;\n",
       "    }\n",
       "\n",
       "    .dataframe tbody tr th {\n",
       "        vertical-align: top;\n",
       "    }\n",
       "\n",
       "    .dataframe thead th {\n",
       "        text-align: right;\n",
       "    }\n",
       "</style>\n",
       "<table border=\"1\" class=\"dataframe\">\n",
       "  <thead>\n",
       "    <tr style=\"text-align: right;\">\n",
       "      <th></th>\n",
       "      <th>from_station_id</th>\n",
       "      <th>from_station_name</th>\n",
       "    </tr>\n",
       "  </thead>\n",
       "  <tbody>\n",
       "    <tr>\n",
       "      <th>288</th>\n",
       "      <td>7067</td>\n",
       "      <td>Yonge St / Harbour St</td>\n",
       "    </tr>\n",
       "    <tr>\n",
       "      <th>289</th>\n",
       "      <td>7163</td>\n",
       "      <td>Yonge St / Wood St</td>\n",
       "    </tr>\n",
       "    <tr>\n",
       "      <th>290</th>\n",
       "      <td>7126</td>\n",
       "      <td>Yonge St / Yorkville Ave</td>\n",
       "    </tr>\n",
       "    <tr>\n",
       "      <th>291</th>\n",
       "      <td>0</td>\n",
       "      <td>York St / King St W - SMART</td>\n",
       "    </tr>\n",
       "    <tr>\n",
       "      <th>292</th>\n",
       "      <td>7076</td>\n",
       "      <td>York St / Queens Quay W</td>\n",
       "    </tr>\n",
       "  </tbody>\n",
       "</table>\n",
       "</div>"
      ],
      "text/plain": [
       "    from_station_id            from_station_name\n",
       "288            7067        Yonge St / Harbour St\n",
       "289            7163           Yonge St / Wood St\n",
       "290            7126     Yonge St / Yorkville Ave\n",
       "291               0  York St / King St W - SMART\n",
       "292            7076      York St / Queens Quay W"
      ]
     },
     "execution_count": 34,
     "metadata": {},
     "output_type": "execute_result"
    }
   ],
   "source": [
    "station_name = most_counts_per(['from_station_name','from_station_id']).reset_index()[['from_station_id','from_station_name']]\n",
    "#SQL table of station ids, with name as the primary look up key\n",
    "station_name.tail()"
   ]
  },
  {
   "cell_type": "code",
   "execution_count": 35,
   "metadata": {
    "colab": {
     "base_uri": "https://localhost:8080/",
     "height": 0
    },
    "colab_type": "code",
    "executionInfo": {
     "elapsed": 58575,
     "status": "ok",
     "timestamp": 1587597372397,
     "user": {
      "displayName": "grimmister",
      "photoUrl": "",
      "userId": "11539785123931148346"
     },
     "user_tz": 240
    },
    "id": "A0t8X8i1E8I3",
    "outputId": "b0c8d36f-3db3-47c7-cd12-19df90ecc254"
   },
   "outputs": [
    {
     "data": {
      "text/html": [
       "<div>\n",
       "<style scoped>\n",
       "    .dataframe tbody tr th:only-of-type {\n",
       "        vertical-align: middle;\n",
       "    }\n",
       "\n",
       "    .dataframe tbody tr th {\n",
       "        vertical-align: top;\n",
       "    }\n",
       "\n",
       "    .dataframe thead th {\n",
       "        text-align: right;\n",
       "    }\n",
       "</style>\n",
       "<table border=\"1\" class=\"dataframe\">\n",
       "  <thead>\n",
       "    <tr style=\"text-align: right;\">\n",
       "      <th></th>\n",
       "      <th>user_id</th>\n",
       "      <th>user_type</th>\n",
       "    </tr>\n",
       "  </thead>\n",
       "  <tbody>\n",
       "    <tr>\n",
       "      <th>0</th>\n",
       "      <td>0</td>\n",
       "      <td>Casual</td>\n",
       "    </tr>\n",
       "    <tr>\n",
       "      <th>1</th>\n",
       "      <td>1</td>\n",
       "      <td>Member</td>\n",
       "    </tr>\n",
       "    <tr>\n",
       "      <th>2</th>\n",
       "      <td>2</td>\n",
       "      <td>Member</td>\n",
       "    </tr>\n",
       "    <tr>\n",
       "      <th>3</th>\n",
       "      <td>3</td>\n",
       "      <td>Member</td>\n",
       "    </tr>\n",
       "    <tr>\n",
       "      <th>4</th>\n",
       "      <td>4</td>\n",
       "      <td>Member</td>\n",
       "    </tr>\n",
       "  </tbody>\n",
       "</table>\n",
       "</div>"
      ],
      "text/plain": [
       "   user_id user_type\n",
       "0        0    Casual\n",
       "1        1    Member\n",
       "2        2    Member\n",
       "3        3    Member\n",
       "4        4    Member"
      ]
     },
     "execution_count": 35,
     "metadata": {},
     "output_type": "execute_result"
    }
   ],
   "source": [
    "user_type = most_counts_per(['user_id','user_type']).reset_index()[['user_id','user_type']]\n",
    "#SQL table of user types for the corresponding user_id as the primary key\n",
    "user_type.head()"
   ]
  },
  {
   "cell_type": "code",
   "execution_count": 36,
   "metadata": {
    "colab": {
     "base_uri": "https://localhost:8080/",
     "height": 0
    },
    "colab_type": "code",
    "executionInfo": {
     "elapsed": 58568,
     "status": "ok",
     "timestamp": 1587597372398,
     "user": {
      "displayName": "grimmister",
      "photoUrl": "",
      "userId": "11539785123931148346"
     },
     "user_tz": 240
    },
    "id": "G4Ppj9EAGOOT",
    "outputId": "1d1980b5-6d55-400a-f00f-b8996338ab27"
   },
   "outputs": [
    {
     "data": {
      "text/html": [
       "<div>\n",
       "<style scoped>\n",
       "    .dataframe tbody tr th:only-of-type {\n",
       "        vertical-align: middle;\n",
       "    }\n",
       "\n",
       "    .dataframe tbody tr th {\n",
       "        vertical-align: top;\n",
       "    }\n",
       "\n",
       "    .dataframe thead th {\n",
       "        text-align: right;\n",
       "    }\n",
       "</style>\n",
       "<table border=\"1\" class=\"dataframe\">\n",
       "  <thead>\n",
       "    <tr style=\"text-align: right;\">\n",
       "      <th></th>\n",
       "      <th>trip_id</th>\n",
       "      <th>trip_start_time</th>\n",
       "      <th>trip_stop_time</th>\n",
       "      <th>from_station_name</th>\n",
       "      <th>to_station_name</th>\n",
       "      <th>user_id</th>\n",
       "    </tr>\n",
       "  </thead>\n",
       "  <tbody>\n",
       "    <tr>\n",
       "      <th>0</th>\n",
       "      <td>712382</td>\n",
       "      <td>2017-01-01</td>\n",
       "      <td>2017-01-01 00:03:00</td>\n",
       "      <td>Wellesley St E / Yonge St Green P</td>\n",
       "      <td>Church St  / Wood St</td>\n",
       "      <td>3567</td>\n",
       "    </tr>\n",
       "    <tr>\n",
       "      <th>1</th>\n",
       "      <td>712383</td>\n",
       "      <td>2017-01-01</td>\n",
       "      <td>2017-01-01 00:05:00</td>\n",
       "      <td>Kendal Ave / Bernard Ave</td>\n",
       "      <td>Bathurst Subway Station</td>\n",
       "      <td>2182</td>\n",
       "    </tr>\n",
       "  </tbody>\n",
       "</table>\n",
       "</div>"
      ],
      "text/plain": [
       "   trip_id trip_start_time      trip_stop_time  \\\n",
       "0   712382      2017-01-01 2017-01-01 00:03:00   \n",
       "1   712383      2017-01-01 2017-01-01 00:05:00   \n",
       "\n",
       "                   from_station_name          to_station_name  user_id  \n",
       "0  Wellesley St E / Yonge St Green P     Church St  / Wood St     3567  \n",
       "1           Kendal Ave / Bernard Ave  Bathurst Subway Station     2182  "
      ]
     },
     "execution_count": 36,
     "metadata": {},
     "output_type": "execute_result"
    }
   ],
   "source": [
    "data_short = data.iloc[:,[0,1,2,5,7,16]]\n",
    "data_short.head(2)\n",
    "#SQL table of the main data, excluding station_ids and user_types"
   ]
  },
  {
   "cell_type": "markdown",
   "metadata": {
    "colab_type": "text",
    "id": "kw0DTlE_77XV"
   },
   "source": [
    "By merging the main table (data_short) with the user_type table via the user_id key, we acquire a new table with each record of the original data_short table but also the corresponding user_type"
   ]
  },
  {
   "cell_type": "code",
   "execution_count": 37,
   "metadata": {
    "colab": {
     "base_uri": "https://localhost:8080/",
     "height": 0
    },
    "colab_type": "code",
    "executionInfo": {
     "elapsed": 58882,
     "status": "ok",
     "timestamp": 1587597372720,
     "user": {
      "displayName": "grimmister",
      "photoUrl": "",
      "userId": "11539785123931148346"
     },
     "user_tz": 240
    },
    "id": "JVKHsj7yK-qv",
    "outputId": "64657c53-3687-4a89-9644-1b685d99dbf3"
   },
   "outputs": [
    {
     "data": {
      "text/html": [
       "<div>\n",
       "<style scoped>\n",
       "    .dataframe tbody tr th:only-of-type {\n",
       "        vertical-align: middle;\n",
       "    }\n",
       "\n",
       "    .dataframe tbody tr th {\n",
       "        vertical-align: top;\n",
       "    }\n",
       "\n",
       "    .dataframe thead th {\n",
       "        text-align: right;\n",
       "    }\n",
       "</style>\n",
       "<table border=\"1\" class=\"dataframe\">\n",
       "  <thead>\n",
       "    <tr style=\"text-align: right;\">\n",
       "      <th></th>\n",
       "      <th>trip_id</th>\n",
       "      <th>trip_start_time</th>\n",
       "      <th>trip_stop_time</th>\n",
       "      <th>from_station_name</th>\n",
       "      <th>to_station_name</th>\n",
       "      <th>user_id</th>\n",
       "      <th>user_type</th>\n",
       "    </tr>\n",
       "  </thead>\n",
       "  <tbody>\n",
       "    <tr>\n",
       "      <th>0</th>\n",
       "      <td>712382</td>\n",
       "      <td>2017-01-01 00:00:00</td>\n",
       "      <td>2017-01-01 00:03:00</td>\n",
       "      <td>Wellesley St E / Yonge St Green P</td>\n",
       "      <td>Church St  / Wood St</td>\n",
       "      <td>3567</td>\n",
       "      <td>Member</td>\n",
       "    </tr>\n",
       "    <tr>\n",
       "      <th>1</th>\n",
       "      <td>712383</td>\n",
       "      <td>2017-01-01 00:00:00</td>\n",
       "      <td>2017-01-01 00:05:00</td>\n",
       "      <td>Kendal Ave / Bernard Ave</td>\n",
       "      <td>Bathurst Subway Station</td>\n",
       "      <td>2182</td>\n",
       "      <td>Member</td>\n",
       "    </tr>\n",
       "    <tr>\n",
       "      <th>2</th>\n",
       "      <td>712384</td>\n",
       "      <td>2017-01-01 00:05:00</td>\n",
       "      <td>2017-01-01 00:29:00</td>\n",
       "      <td>Parliament St / Aberdeen Ave</td>\n",
       "      <td>College St W / Markham St</td>\n",
       "      <td>3290</td>\n",
       "      <td>Member</td>\n",
       "    </tr>\n",
       "    <tr>\n",
       "      <th>3</th>\n",
       "      <td>712385</td>\n",
       "      <td>2017-01-01 00:07:00</td>\n",
       "      <td>2017-01-01 00:21:00</td>\n",
       "      <td>College Park South</td>\n",
       "      <td>King St W / Spadina Ave</td>\n",
       "      <td>959</td>\n",
       "      <td>Member</td>\n",
       "    </tr>\n",
       "    <tr>\n",
       "      <th>4</th>\n",
       "      <td>712386</td>\n",
       "      <td>2017-01-01 00:08:00</td>\n",
       "      <td>2017-01-01 00:12:00</td>\n",
       "      <td>McGill St / Church St</td>\n",
       "      <td>University Ave / Gerrard St W</td>\n",
       "      <td>3903</td>\n",
       "      <td>Member</td>\n",
       "    </tr>\n",
       "  </tbody>\n",
       "</table>\n",
       "</div>"
      ],
      "text/plain": [
       "   trip_id     trip_start_time      trip_stop_time  \\\n",
       "0   712382 2017-01-01 00:00:00 2017-01-01 00:03:00   \n",
       "1   712383 2017-01-01 00:00:00 2017-01-01 00:05:00   \n",
       "2   712384 2017-01-01 00:05:00 2017-01-01 00:29:00   \n",
       "3   712385 2017-01-01 00:07:00 2017-01-01 00:21:00   \n",
       "4   712386 2017-01-01 00:08:00 2017-01-01 00:12:00   \n",
       "\n",
       "                   from_station_name                to_station_name  user_id  \\\n",
       "0  Wellesley St E / Yonge St Green P           Church St  / Wood St     3567   \n",
       "1           Kendal Ave / Bernard Ave        Bathurst Subway Station     2182   \n",
       "2       Parliament St / Aberdeen Ave      College St W / Markham St     3290   \n",
       "3                 College Park South        King St W / Spadina Ave      959   \n",
       "4              McGill St / Church St  University Ave / Gerrard St W     3903   \n",
       "\n",
       "  user_type  \n",
       "0    Member  \n",
       "1    Member  \n",
       "2    Member  \n",
       "3    Member  \n",
       "4    Member  "
      ]
     },
     "execution_count": 37,
     "metadata": {},
     "output_type": "execute_result"
    }
   ],
   "source": [
    "pd.merge(data_short,user_type, how='left',left_on='user_id',right_on='user_id').head()\n",
    "#Joined SQL tables on the matching Key user_id"
   ]
  },
  {
   "cell_type": "markdown",
   "metadata": {
    "colab_type": "text",
    "id": "QnQRw5CBL9UX"
   },
   "source": [
    "# Interesting Findings\n",
    "* There are 16 records where bikes have been rented for over a week\n",
    "* There are 782 records where bikes have been rented for less than 3 seconds\n",
    "* Weekdays are more popular for users than the weekend, probably due to commuters\n",
    "* 5% of trips were round trips"
   ]
  },
  {
   "cell_type": "code",
   "execution_count": 38,
   "metadata": {
    "colab": {
     "base_uri": "https://localhost:8080/",
     "height": 35
    },
    "colab_type": "code",
    "executionInfo": {
     "elapsed": 58876,
     "status": "ok",
     "timestamp": 1587597372721,
     "user": {
      "displayName": "grimmister",
      "photoUrl": "",
      "userId": "11539785123931148346"
     },
     "user_tz": 240
    },
    "id": "qXmBMQgbKZl5",
    "outputId": "23f4a813-b52c-41ad-9bae-7f3729ad6472"
   },
   "outputs": [
    {
     "data": {
      "text/plain": [
       "16"
      ]
     },
     "execution_count": 38,
     "metadata": {},
     "output_type": "execute_result"
    }
   ],
   "source": [
    "data[data['trip_duration_seconds'] > 60*60*24*7].shape[0]\n",
    "#There are 16 records where bikes have been rented for over a week"
   ]
  },
  {
   "cell_type": "code",
   "execution_count": 39,
   "metadata": {
    "colab": {
     "base_uri": "https://localhost:8080/",
     "height": 35
    },
    "colab_type": "code",
    "executionInfo": {
     "elapsed": 58868,
     "status": "ok",
     "timestamp": 1587597372721,
     "user": {
      "displayName": "grimmister",
      "photoUrl": "",
      "userId": "11539785123931148346"
     },
     "user_tz": 240
    },
    "id": "5xDyP1HgKckY",
    "outputId": "8852ae93-443e-480d-d9e6-1635f8c72edb"
   },
   "outputs": [
    {
     "data": {
      "text/plain": [
       "782"
      ]
     },
     "execution_count": 39,
     "metadata": {},
     "output_type": "execute_result"
    }
   ],
   "source": [
    "data[data['trip_duration_seconds'] < 3].shape[0]\n",
    "#There are 782 records where bikes have been rented for less than 3 seconds"
   ]
  },
  {
   "cell_type": "code",
   "execution_count": 40,
   "metadata": {
    "colab": {
     "base_uri": "https://localhost:8080/",
     "height": 173
    },
    "colab_type": "code",
    "executionInfo": {
     "elapsed": 58861,
     "status": "ok",
     "timestamp": 1587597372721,
     "user": {
      "displayName": "grimmister",
      "photoUrl": "",
      "userId": "11539785123931148346"
     },
     "user_tz": 240
    },
    "id": "CjaZFSPgZ5LI",
    "outputId": "268a854e-8377-4f77-f5ce-d9ea23fa6409"
   },
   "outputs": [
    {
     "data": {
      "text/plain": [
       "weekday\n",
       "0    212045\n",
       "1    228686\n",
       "2    253501\n",
       "3    223933\n",
       "4    219743\n",
       "5    182982\n",
       "6    171478\n",
       "Name: trip_id, dtype: int64"
      ]
     },
     "execution_count": 40,
     "metadata": {},
     "output_type": "execute_result"
    }
   ],
   "source": [
    "data.groupby('weekday')['trip_id'].count()\n",
    "#Weekdays are more popular for users than the weekend, probably due to commuters"
   ]
  },
  {
   "cell_type": "code",
   "execution_count": 41,
   "metadata": {
    "colab": {
     "base_uri": "https://localhost:8080/",
     "height": 35
    },
    "colab_type": "code",
    "executionInfo": {
     "elapsed": 59269,
     "status": "ok",
     "timestamp": 1587597373137,
     "user": {
      "displayName": "grimmister",
      "photoUrl": "",
      "userId": "11539785123931148346"
     },
     "user_tz": 240
    },
    "id": "1NkxpjFMaSta",
    "outputId": "1584d7cc-997b-4f77-b018-4da7e89dcf6b"
   },
   "outputs": [
    {
     "data": {
      "text/plain": [
       "0.04805919183472173"
      ]
     },
     "execution_count": 41,
     "metadata": {},
     "output_type": "execute_result"
    }
   ],
   "source": [
    "data[data['from_station_name'] == data['to_station_name']].shape[0] / data.shape[0]\n",
    "# 5% of trips were round trips"
   ]
  }
 ],
 "metadata": {
  "colab": {
   "authorship_tag": "ABX9TyP8x/CtgAT+mDMiM5kRPud5",
   "collapsed_sections": [
    "Xh1Y6zYN1EN5",
    "8k8PkW8K09Ea",
    "vc_4oGlr7jJL",
    "gd-8mVFxthgz",
    "CA64bR2H1Ksg",
    "-dne8VIu2qaF",
    "48WNcZRt4Sk0",
    "Jcob-Yyk4yaD",
    "noT4RsRz5xkJ",
    "fwziSCTe6Z4X",
    "PC8pAHN87WvQ",
    "yrTIT24Stbo8",
    "kRy8XmMg8A6G",
    "j3Pk2kd88N3j",
    "WVHGyy3p9OSJ",
    "Ybb7GdhOLuC2",
    "QnQRw5CBL9UX"
   ],
   "name": "Project1b.ipynb",
   "provenance": []
  },
  "kernelspec": {
   "display_name": "Python 3",
   "language": "python",
   "name": "python3"
  },
  "language_info": {
   "codemirror_mode": {
    "name": "ipython",
    "version": 3
   },
   "file_extension": ".py",
   "mimetype": "text/x-python",
   "name": "python",
   "nbconvert_exporter": "python",
   "pygments_lexer": "ipython3",
   "version": "3.7.6"
  }
 },
 "nbformat": 4,
 "nbformat_minor": 1
}
