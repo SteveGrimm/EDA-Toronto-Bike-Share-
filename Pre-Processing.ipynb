{
 "cells": [
  {
   "cell_type": "code",
   "execution_count": 0,
   "metadata": {
    "colab": {},
    "colab_type": "code",
    "id": "ssRqRbCZM3zE"
   },
   "outputs": [],
   "source": [
    "import numpy as np\n",
    "import pandas as pd\n",
    "import os\n",
    "import datetime as dt\n",
    "import matplotlib.pyplot as plt\n",
    "import dateutil.parser #converts all common date formats from string to datetime"
   ]
  },
  {
   "cell_type": "markdown",
   "metadata": {
    "colab_type": "text",
    "id": "SvrbNdbq5Cof"
   },
   "source": [
    "# Import Data"
   ]
  },
  {
   "cell_type": "code",
   "execution_count": 0,
   "metadata": {
    "colab": {
     "base_uri": "https://localhost:8080/",
     "height": 72
    },
    "colab_type": "code",
    "executionInfo": {
     "elapsed": 3298,
     "status": "ok",
     "timestamp": 1586871536443,
     "user": {
      "displayName": "grimmister",
      "photoUrl": "",
      "userId": "11539785123931148346"
     },
     "user_tz": 240
    },
    "id": "lNrpFxCRiCgc",
    "outputId": "3050f742-8e07-4425-d311-b1974dd210d9"
   },
   "outputs": [
    {
     "name": "stderr",
     "output_type": "stream",
     "text": [
      "/usr/local/lib/python3.6/dist-packages/IPython/core/interactiveshell.py:2718: DtypeWarning: Columns (0,4,6,7,8) have mixed types.Specify dtype option on import or set low_memory=False.\n",
      "  interactivity=interactivity, compiler=compiler, result=result)\n"
     ]
    }
   ],
   "source": [
    "data = pd.read_csv('2017_Toronto_Bikeshare.csv')"
   ]
  },
  {
   "cell_type": "code",
   "execution_count": 0,
   "metadata": {
    "colab": {
     "base_uri": "https://localhost:8080/",
     "height": 295
    },
    "colab_type": "code",
    "executionInfo": {
     "elapsed": 35797,
     "status": "ok",
     "timestamp": 1586871577222,
     "user": {
      "displayName": "grimmister",
      "photoUrl": "",
      "userId": "11539785123931148346"
     },
     "user_tz": 240
    },
    "id": "AH3jNmnB3s7f",
    "outputId": "cd1532d2-c5cc-40f5-dcfb-e35e62b2c0a5"
   },
   "outputs": [
    {
     "name": "stdout",
     "output_type": "stream",
     "text": [
      "<class 'pandas.core.frame.DataFrame'>\n",
      "RangeIndex: 1492370 entries, 0 to 1492369\n",
      "Data columns (total 9 columns):\n",
      " #   Column                 Non-Null Count    Dtype  \n",
      "---  ------                 --------------    -----  \n",
      " 0   trip_id                1492370 non-null  object \n",
      " 1   trip_start_time        1492369 non-null  object \n",
      " 2   trip_stop_time         1492369 non-null  object \n",
      " 3   trip_duration_seconds  1492369 non-null  float64\n",
      " 4   from_station_id        1492369 non-null  object \n",
      " 5   from_station_name      1492368 non-null  object \n",
      " 6   to_station_id          1492369 non-null  object \n",
      " 7   to_station_name        465476 non-null   object \n",
      " 8   user_type              465476 non-null   object \n",
      "dtypes: float64(1), object(8)\n",
      "memory usage: 691.0 MB\n"
     ]
    }
   ],
   "source": [
    "data.info(memory_usage='deep')"
   ]
  },
  {
   "cell_type": "code",
   "execution_count": 0,
   "metadata": {
    "colab": {
     "base_uri": "https://localhost:8080/",
     "height": 147
    },
    "colab_type": "code",
    "executionInfo": {
     "elapsed": 35780,
     "status": "ok",
     "timestamp": 1586871577223,
     "user": {
      "displayName": "grimmister",
      "photoUrl": "",
      "userId": "11539785123931148346"
     },
     "user_tz": 240
    },
    "id": "y2UW7Q3z88KM",
    "outputId": "fc9c9926-8b1c-4adc-f1fa-33c8aa3f8d4d"
   },
   "outputs": [
    {
     "data": {
      "text/html": [
       "<div>\n",
       "<style scoped>\n",
       "    .dataframe tbody tr th:only-of-type {\n",
       "        vertical-align: middle;\n",
       "    }\n",
       "\n",
       "    .dataframe tbody tr th {\n",
       "        vertical-align: top;\n",
       "    }\n",
       "\n",
       "    .dataframe thead th {\n",
       "        text-align: right;\n",
       "    }\n",
       "</style>\n",
       "<table border=\"1\" class=\"dataframe\">\n",
       "  <thead>\n",
       "    <tr style=\"text-align: right;\">\n",
       "      <th></th>\n",
       "      <th>trip_id</th>\n",
       "      <th>trip_start_time</th>\n",
       "      <th>trip_stop_time</th>\n",
       "      <th>trip_duration_seconds</th>\n",
       "      <th>from_station_id</th>\n",
       "      <th>from_station_name</th>\n",
       "      <th>to_station_id</th>\n",
       "      <th>to_station_name</th>\n",
       "      <th>user_type</th>\n",
       "    </tr>\n",
       "  </thead>\n",
       "  <tbody>\n",
       "    <tr>\n",
       "      <th>1492368</th>\n",
       "      <td>2383646</td>\n",
       "      <td>12/31/17 23:49:41</td>\n",
       "      <td>12/31/17 23:57:41</td>\n",
       "      <td>480.0</td>\n",
       "      <td>Phoebe St / Spadina Ave</td>\n",
       "      <td>Simcoe St / Queen St W</td>\n",
       "      <td>Member</td>\n",
       "      <td>NaN</td>\n",
       "      <td>NaN</td>\n",
       "    </tr>\n",
       "    <tr>\n",
       "      <th>1492369</th>\n",
       "      <td>\u001a</td>\n",
       "      <td>NaN</td>\n",
       "      <td>NaN</td>\n",
       "      <td>NaN</td>\n",
       "      <td>NaN</td>\n",
       "      <td>NaN</td>\n",
       "      <td>NaN</td>\n",
       "      <td>NaN</td>\n",
       "      <td>NaN</td>\n",
       "    </tr>\n",
       "  </tbody>\n",
       "</table>\n",
       "</div>"
      ],
      "text/plain": [
       "         trip_id    trip_start_time  ... to_station_name  user_type\n",
       "1492368  2383646  12/31/17 23:49:41  ...             NaN        NaN\n",
       "1492369        \u001a                NaN  ...             NaN        NaN\n",
       "\n",
       "[2 rows x 9 columns]"
      ]
     },
     "execution_count": 80,
     "metadata": {
      "tags": []
     },
     "output_type": "execute_result"
    }
   ],
   "source": [
    "data.tail(2)"
   ]
  },
  {
   "cell_type": "markdown",
   "metadata": {
    "colab_type": "text",
    "id": "J_JGQRm34cOq"
   },
   "source": [
    "# Data cleaning"
   ]
  },
  {
   "cell_type": "markdown",
   "metadata": {
    "colab_type": "text",
    "id": "fHtHqhiA4kwN"
   },
   "source": [
    "## Missing Values"
   ]
  },
  {
   "cell_type": "code",
   "execution_count": 0,
   "metadata": {
    "colab": {
     "base_uri": "https://localhost:8080/",
     "height": 191
    },
    "colab_type": "code",
    "executionInfo": {
     "elapsed": 36029,
     "status": "ok",
     "timestamp": 1586871577482,
     "user": {
      "displayName": "grimmister",
      "photoUrl": "",
      "userId": "11539785123931148346"
     },
     "user_tz": 240
    },
    "id": "6jJX64sQ3ybe",
    "outputId": "e5bdcbdf-3701-45b7-9825-fad9f9964a41"
   },
   "outputs": [
    {
     "data": {
      "text/plain": [
       "trip_id                        0\n",
       "trip_start_time                1\n",
       "trip_stop_time                 1\n",
       "trip_duration_seconds          1\n",
       "from_station_id                1\n",
       "from_station_name              2\n",
       "to_station_id                  1\n",
       "to_station_name          1026894\n",
       "user_type                1026894\n",
       "dtype: int64"
      ]
     },
     "execution_count": 81,
     "metadata": {
      "tags": []
     },
     "output_type": "execute_result"
    }
   ],
   "source": [
    "data.isnull().sum()\n",
    "#check for missing values (recognized by python as such) per column\n",
    "# from_station_name has 2 NaN, good point to start investigating"
   ]
  },
  {
   "cell_type": "code",
   "execution_count": 0,
   "metadata": {
    "colab": {
     "base_uri": "https://localhost:8080/",
     "height": 147
    },
    "colab_type": "code",
    "executionInfo": {
     "elapsed": 36022,
     "status": "ok",
     "timestamp": 1586871577482,
     "user": {
      "displayName": "grimmister",
      "photoUrl": "",
      "userId": "11539785123931148346"
     },
     "user_tz": 240
    },
    "id": "cPCrPTib3_9y",
    "outputId": "21f8a20b-e0a8-44ec-91d6-17ebe5cba157"
   },
   "outputs": [
    {
     "data": {
      "text/html": [
       "<div>\n",
       "<style scoped>\n",
       "    .dataframe tbody tr th:only-of-type {\n",
       "        vertical-align: middle;\n",
       "    }\n",
       "\n",
       "    .dataframe tbody tr th {\n",
       "        vertical-align: top;\n",
       "    }\n",
       "\n",
       "    .dataframe thead th {\n",
       "        text-align: right;\n",
       "    }\n",
       "</style>\n",
       "<table border=\"1\" class=\"dataframe\">\n",
       "  <thead>\n",
       "    <tr style=\"text-align: right;\">\n",
       "      <th></th>\n",
       "      <th>trip_id</th>\n",
       "      <th>trip_start_time</th>\n",
       "      <th>trip_stop_time</th>\n",
       "      <th>trip_duration_seconds</th>\n",
       "      <th>from_station_id</th>\n",
       "      <th>from_station_name</th>\n",
       "      <th>to_station_id</th>\n",
       "      <th>to_station_name</th>\n",
       "      <th>user_type</th>\n",
       "    </tr>\n",
       "  </thead>\n",
       "  <tbody>\n",
       "    <tr>\n",
       "      <th>1424602</th>\n",
       "      <td>2302635</td>\n",
       "      <td>11/29/17 05:53:54</td>\n",
       "      <td>NULLNULL</td>\n",
       "      <td>0.0</td>\n",
       "      <td>Seaton St / Dundas St E</td>\n",
       "      <td>NaN</td>\n",
       "      <td>Casual</td>\n",
       "      <td>NaN</td>\n",
       "      <td>NaN</td>\n",
       "    </tr>\n",
       "    <tr>\n",
       "      <th>1492369</th>\n",
       "      <td>\u001a</td>\n",
       "      <td>NaN</td>\n",
       "      <td>NaN</td>\n",
       "      <td>NaN</td>\n",
       "      <td>NaN</td>\n",
       "      <td>NaN</td>\n",
       "      <td>NaN</td>\n",
       "      <td>NaN</td>\n",
       "      <td>NaN</td>\n",
       "    </tr>\n",
       "  </tbody>\n",
       "</table>\n",
       "</div>"
      ],
      "text/plain": [
       "         trip_id    trip_start_time  ... to_station_name  user_type\n",
       "1424602  2302635  11/29/17 05:53:54  ...             NaN        NaN\n",
       "1492369        \u001a                NaN  ...             NaN        NaN\n",
       "\n",
       "[2 rows x 9 columns]"
      ]
     },
     "execution_count": 82,
     "metadata": {
      "tags": []
     },
     "output_type": "execute_result"
    }
   ],
   "source": [
    "data[data['from_station_name'].isnull()]\n",
    "# these two rows are useless and contain the other column's missing values\n",
    "# .isnull().index.tolist() gives list of row indices containing missing values"
   ]
  },
  {
   "cell_type": "code",
   "execution_count": 0,
   "metadata": {
    "colab": {
     "base_uri": "https://localhost:8080/",
     "height": 35
    },
    "colab_type": "code",
    "executionInfo": {
     "elapsed": 36016,
     "status": "ok",
     "timestamp": 1586871577483,
     "user": {
      "displayName": "grimmister",
      "photoUrl": "",
      "userId": "11539785123931148346"
     },
     "user_tz": 240
    },
    "id": "bJ5XNkflzajc",
    "outputId": "a7cc5cd5-8d8a-4c14-8cb5-1e529cf31002"
   },
   "outputs": [
    {
     "data": {
      "text/plain": [
       "(1492370, 9)"
      ]
     },
     "execution_count": 83,
     "metadata": {
      "tags": []
     },
     "output_type": "execute_result"
    }
   ],
   "source": [
    "data.shape\n",
    "# check the original amount of rows"
   ]
  },
  {
   "cell_type": "code",
   "execution_count": 0,
   "metadata": {
    "colab": {
     "base_uri": "https://localhost:8080/",
     "height": 35
    },
    "colab_type": "code",
    "executionInfo": {
     "elapsed": 36256,
     "status": "ok",
     "timestamp": 1586871577731,
     "user": {
      "displayName": "grimmister",
      "photoUrl": "",
      "userId": "11539785123931148346"
     },
     "user_tz": 240
    },
    "id": "F89-cffhmOeA",
    "outputId": "2485237c-21fb-42db-bbe6-cbcb52dd3e43"
   },
   "outputs": [
    {
     "data": {
      "text/plain": [
       "(1492368, 9)"
      ]
     },
     "execution_count": 84,
     "metadata": {
      "tags": []
     },
     "output_type": "execute_result"
    }
   ],
   "source": [
    "data.drop(data[data['from_station_name'].isnull()].index,inplace=True)\n",
    "# drops last row of dataframe, since they're all NaNs anyway.\n",
    "# drops a trip that wasn't finished, via the index of the row that contains the missing value\n",
    "data.index = range(len(data['trip_id']))\n",
    "#re-count the indices of the dataframe after dropping rows\n",
    "data.shape\n",
    "# check if two rows were deleted"
   ]
  },
  {
   "cell_type": "code",
   "execution_count": 0,
   "metadata": {
    "colab": {
     "base_uri": "https://localhost:8080/",
     "height": 451
    },
    "colab_type": "code",
    "executionInfo": {
     "elapsed": 37285,
     "status": "ok",
     "timestamp": 1586871578767,
     "user": {
      "displayName": "grimmister",
      "photoUrl": "",
      "userId": "11539785123931148346"
     },
     "user_tz": 240
    },
    "id": "5KxrOmsrTEBm",
    "outputId": "69c7b20a-59c2-4539-8b20-dd25730ef372"
   },
   "outputs": [
    {
     "name": "stderr",
     "output_type": "stream",
     "text": [
      "/usr/local/lib/python3.6/dist-packages/ipykernel_launcher.py:4: SettingWithCopyWarning: \n",
      "A value is trying to be set on a copy of a slice from a DataFrame\n",
      "\n",
      "See the caveats in the documentation: https://pandas.pydata.org/pandas-docs/stable/user_guide/indexing.html#returning-a-view-versus-a-copy\n",
      "  after removing the cwd from sys.path.\n",
      "/usr/local/lib/python3.6/dist-packages/ipykernel_launcher.py:5: SettingWithCopyWarning: \n",
      "A value is trying to be set on a copy of a slice from a DataFrame\n",
      "\n",
      "See the caveats in the documentation: https://pandas.pydata.org/pandas-docs/stable/user_guide/indexing.html#returning-a-view-versus-a-copy\n",
      "  \"\"\"\n",
      "/usr/local/lib/python3.6/dist-packages/ipykernel_launcher.py:6: SettingWithCopyWarning: \n",
      "A value is trying to be set on a copy of a slice from a DataFrame\n",
      "\n",
      "See the caveats in the documentation: https://pandas.pydata.org/pandas-docs/stable/user_guide/indexing.html#returning-a-view-versus-a-copy\n",
      "  \n",
      "/usr/local/lib/python3.6/dist-packages/ipykernel_launcher.py:7: SettingWithCopyWarning: \n",
      "A value is trying to be set on a copy of a slice from a DataFrame\n",
      "\n",
      "See the caveats in the documentation: https://pandas.pydata.org/pandas-docs/stable/user_guide/indexing.html#returning-a-view-versus-a-copy\n",
      "  import sys\n",
      "/usr/local/lib/python3.6/dist-packages/ipykernel_launcher.py:8: SettingWithCopyWarning: \n",
      "A value is trying to be set on a copy of a slice from a DataFrame\n",
      "\n",
      "See the caveats in the documentation: https://pandas.pydata.org/pandas-docs/stable/user_guide/indexing.html#returning-a-view-versus-a-copy\n",
      "  \n"
     ]
    }
   ],
   "source": [
    "missing = data['user_type'].isna()\n",
    "#filter for rows that have missing values in them (where the station_id wasn't reported anymore, causing a shift in the data columns)\n",
    "\n",
    "data['user_type'][missing] = data['to_station_id'][missing]\n",
    "data['to_station_name'][missing] = data['from_station_name'][missing]\n",
    "data['to_station_id'][missing] = [0] * len(data['to_station_id'][missing])\n",
    "data['from_station_name'][missing] = data['from_station_id'][missing]\n",
    "data['from_station_id'][missing] = [0] * len(data['from_station_id'][missing])\n",
    "#shift the data back into its original columns, and filling the station_ids with zeros\n"
   ]
  },
  {
   "cell_type": "code",
   "execution_count": 0,
   "metadata": {
    "colab": {},
    "colab_type": "code",
    "id": "cTz7D-HTOemU"
   },
   "outputs": [],
   "source": [
    "data['from_station_id'] = data['from_station_id'].astype('category')\n",
    "data['from_station_name'] = data['from_station_name'].astype('category')\n",
    "data['to_station_id'] = data['to_station_id'].astype('category')\n",
    "data['to_station_name'] = data['to_station_name'].astype('category')\n",
    "data['user_type'] = data['user_type'].astype('category')\n",
    "#converting these columns from strings to categorical values in order to reduce file size"
   ]
  },
  {
   "cell_type": "code",
   "execution_count": 0,
   "metadata": {
    "colab": {
     "base_uri": "https://localhost:8080/",
     "height": 295
    },
    "colab_type": "code",
    "executionInfo": {
     "elapsed": 50742,
     "status": "ok",
     "timestamp": 1586871592295,
     "user": {
      "displayName": "grimmister",
      "photoUrl": "",
      "userId": "11539785123931148346"
     },
     "user_tz": 240
    },
    "id": "h5HwJOdiOmcI",
    "outputId": "2999c026-acdb-43c9-882e-87e2d81e4412"
   },
   "outputs": [
    {
     "name": "stdout",
     "output_type": "stream",
     "text": [
      "<class 'pandas.core.frame.DataFrame'>\n",
      "RangeIndex: 1492368 entries, 0 to 1492367\n",
      "Data columns (total 9 columns):\n",
      " #   Column                 Non-Null Count    Dtype   \n",
      "---  ------                 --------------    -----   \n",
      " 0   trip_id                1492368 non-null  object  \n",
      " 1   trip_start_time        1492368 non-null  object  \n",
      " 2   trip_stop_time         1492368 non-null  object  \n",
      " 3   trip_duration_seconds  1492368 non-null  float64 \n",
      " 4   from_station_id        1492368 non-null  category\n",
      " 5   from_station_name      1492368 non-null  category\n",
      " 6   to_station_id          1492368 non-null  category\n",
      " 7   to_station_name        1492368 non-null  category\n",
      " 8   user_type              1492368 non-null  category\n",
      "dtypes: category(5), float64(1), object(3)\n",
      "memory usage: 282.5 MB\n"
     ]
    }
   ],
   "source": [
    "data.info(memory_usage='deep')\n",
    "#memory usage of dataframe"
   ]
  },
  {
   "cell_type": "markdown",
   "metadata": {
    "colab_type": "text",
    "id": "N42mLVMO4LiW"
   },
   "source": [
    "## First Column: trip_id"
   ]
  },
  {
   "cell_type": "code",
   "execution_count": 0,
   "metadata": {
    "colab": {
     "base_uri": "https://localhost:8080/"
    },
    "colab_type": "code",
    "executionInfo": {
     "elapsed": 51004,
     "status": "ok",
     "timestamp": 1586871592564,
     "user": {
      "displayName": "grimmister",
      "photoUrl": "",
      "userId": "11539785123931148346"
     },
     "user_tz": 240
    },
    "id": "baAbG73TuUJ8",
    "outputId": "4112dce8-ff42-433a-abd6-49da99b3721f"
   },
   "outputs": [
    {
     "data": {
      "text/plain": [
       "(2204749, '2383646')"
      ]
     },
     "execution_count": 88,
     "metadata": {
      "tags": []
     },
     "output_type": "execute_result"
    }
   ],
   "source": [
    "list(enumerate(data['trip_id'],712382))[-1]\n",
    "#Check if trip_id is sequential, by enumarting and comparing the last two numbers"
   ]
  },
  {
   "cell_type": "code",
   "execution_count": 0,
   "metadata": {
    "colab": {
     "base_uri": "https://localhost:8080/"
    },
    "colab_type": "code",
    "executionInfo": {
     "elapsed": 52332,
     "status": "ok",
     "timestamp": 1586871593899,
     "user": {
      "displayName": "grimmister",
      "photoUrl": "",
      "userId": "11539785123931148346"
     },
     "user_tz": 240
    },
    "id": "P94PSgvw_XyV",
    "outputId": "a4f23e19-cfd7-4305-9102-a814833970e0"
   },
   "outputs": [
    {
     "data": {
      "text/html": [
       "<div>\n",
       "<style scoped>\n",
       "    .dataframe tbody tr th:only-of-type {\n",
       "        vertical-align: middle;\n",
       "    }\n",
       "\n",
       "    .dataframe tbody tr th {\n",
       "        vertical-align: top;\n",
       "    }\n",
       "\n",
       "    .dataframe thead th {\n",
       "        text-align: right;\n",
       "    }\n",
       "</style>\n",
       "<table border=\"1\" class=\"dataframe\">\n",
       "  <thead>\n",
       "    <tr style=\"text-align: right;\">\n",
       "      <th></th>\n",
       "      <th>trip_id</th>\n",
       "      <th>trip_start_time</th>\n",
       "      <th>trip_stop_time</th>\n",
       "      <th>trip_duration_seconds</th>\n",
       "      <th>from_station_id</th>\n",
       "      <th>from_station_name</th>\n",
       "      <th>to_station_id</th>\n",
       "      <th>to_station_name</th>\n",
       "      <th>user_type</th>\n",
       "    </tr>\n",
       "  </thead>\n",
       "  <tbody>\n",
       "  </tbody>\n",
       "</table>\n",
       "</div>"
      ],
      "text/plain": [
       "Empty DataFrame\n",
       "Columns: [trip_id, trip_start_time, trip_stop_time, trip_duration_seconds, from_station_id, from_station_name, to_station_id, to_station_name, user_type]\n",
       "Index: []"
      ]
     },
     "execution_count": 89,
     "metadata": {
      "tags": []
     },
     "output_type": "execute_result"
    }
   ],
   "source": [
    "problems = []\n",
    "\n",
    "for each in data['trip_id']:\n",
    "    if isinstance(each,str) and each.isnumeric():\n",
    "        problems.append(False)\n",
    "    elif isinstance(each,int):\n",
    "        problems.append(False)\n",
    "    else:\n",
    "        problems.append(True)\n",
    "\n",
    "data[problems]\n",
    "#all string are numeric, the rest are integers"
   ]
  },
  {
   "cell_type": "code",
   "execution_count": 0,
   "metadata": {
    "colab": {},
    "colab_type": "code",
    "id": "ZyEgXCzh1Hyy"
   },
   "outputs": [],
   "source": [
    "data['trip_id'] = list(map(int, data['trip_id']))\n",
    "#turn all strings into int for the ID column"
   ]
  },
  {
   "cell_type": "code",
   "execution_count": 0,
   "metadata": {
    "colab": {
     "base_uri": "https://localhost:8080/"
    },
    "colab_type": "code",
    "executionInfo": {
     "elapsed": 52938,
     "status": "ok",
     "timestamp": 1586871594518,
     "user": {
      "displayName": "grimmister",
      "photoUrl": "",
      "userId": "11539785123931148346"
     },
     "user_tz": 240
    },
    "id": "2RNRjc7s1uxI",
    "outputId": "90be4bae-cdb8-44e0-ed47-29270b081d39"
   },
   "outputs": [
    {
     "data": {
      "text/html": [
       "<div>\n",
       "<style scoped>\n",
       "    .dataframe tbody tr th:only-of-type {\n",
       "        vertical-align: middle;\n",
       "    }\n",
       "\n",
       "    .dataframe tbody tr th {\n",
       "        vertical-align: top;\n",
       "    }\n",
       "\n",
       "    .dataframe thead th {\n",
       "        text-align: right;\n",
       "    }\n",
       "</style>\n",
       "<table border=\"1\" class=\"dataframe\">\n",
       "  <thead>\n",
       "    <tr style=\"text-align: right;\">\n",
       "      <th></th>\n",
       "      <th>trip_id</th>\n",
       "      <th>trip_start_time</th>\n",
       "      <th>trip_stop_time</th>\n",
       "      <th>trip_duration_seconds</th>\n",
       "      <th>from_station_id</th>\n",
       "      <th>from_station_name</th>\n",
       "      <th>to_station_id</th>\n",
       "      <th>to_station_name</th>\n",
       "      <th>user_type</th>\n",
       "    </tr>\n",
       "  </thead>\n",
       "  <tbody>\n",
       "    <tr>\n",
       "      <th>615</th>\n",
       "      <td>713023</td>\n",
       "      <td>2/1/2017 12:41</td>\n",
       "      <td>2/1/2017 12:47</td>\n",
       "      <td>345.0</td>\n",
       "      <td>7026</td>\n",
       "      <td>Bay St / St. Joseph St</td>\n",
       "      <td>7058</td>\n",
       "      <td>Huron/ Harbord St</td>\n",
       "      <td>Member</td>\n",
       "    </tr>\n",
       "    <tr>\n",
       "      <th>616</th>\n",
       "      <td>713025</td>\n",
       "      <td>2/1/2017 12:42</td>\n",
       "      <td>2/1/2017 12:50</td>\n",
       "      <td>505.0</td>\n",
       "      <td>7033</td>\n",
       "      <td>Union Station</td>\n",
       "      <td>7060</td>\n",
       "      <td>Princess St / Adelaide St</td>\n",
       "      <td>Member</td>\n",
       "    </tr>\n",
       "    <tr>\n",
       "      <th>617</th>\n",
       "      <td>713033</td>\n",
       "      <td>2/1/2017 12:44</td>\n",
       "      <td>2/1/2017 13:01</td>\n",
       "      <td>1002.0</td>\n",
       "      <td>7094</td>\n",
       "      <td>Chester Station</td>\n",
       "      <td>7029</td>\n",
       "      <td>Bay St / Bloor St W</td>\n",
       "      <td>Member</td>\n",
       "    </tr>\n",
       "    <tr>\n",
       "      <th>618</th>\n",
       "      <td>713034</td>\n",
       "      <td>2/1/2017 12:45</td>\n",
       "      <td>2/1/2017 12:59</td>\n",
       "      <td>823.0</td>\n",
       "      <td>7037</td>\n",
       "      <td>Bathurst St / Dundas St W</td>\n",
       "      <td>7188</td>\n",
       "      <td>Exhibition GO (Atlantic Ave)</td>\n",
       "      <td>Member</td>\n",
       "    </tr>\n",
       "    <tr>\n",
       "      <th>619</th>\n",
       "      <td>713037</td>\n",
       "      <td>2/1/2017 12:50</td>\n",
       "      <td>2/1/2017 12:53</td>\n",
       "      <td>206.0</td>\n",
       "      <td>7066</td>\n",
       "      <td>Willcocks St / St. George St</td>\n",
       "      <td>7062</td>\n",
       "      <td>University Ave / College St</td>\n",
       "      <td>Member</td>\n",
       "    </tr>\n",
       "  </tbody>\n",
       "</table>\n",
       "</div>"
      ],
      "text/plain": [
       "     trip_id trip_start_time  ...               to_station_name  user_type\n",
       "615   713023  2/1/2017 12:41  ...             Huron/ Harbord St     Member\n",
       "616   713025  2/1/2017 12:42  ...     Princess St / Adelaide St     Member\n",
       "617   713033  2/1/2017 12:44  ...           Bay St / Bloor St W     Member\n",
       "618   713034  2/1/2017 12:45  ...  Exhibition GO (Atlantic Ave)     Member\n",
       "619   713037  2/1/2017 12:50  ...   University Ave / College St     Member\n",
       "\n",
       "[5 rows x 9 columns]"
      ]
     },
     "execution_count": 91,
     "metadata": {
      "tags": []
     },
     "output_type": "execute_result"
    }
   ],
   "source": [
    "data.iloc[615:620,]"
   ]
  },
  {
   "cell_type": "code",
   "execution_count": 0,
   "metadata": {
    "colab": {
     "base_uri": "https://localhost:8080/"
    },
    "colab_type": "code",
    "executionInfo": {
     "elapsed": 53204,
     "status": "ok",
     "timestamp": 1586871594791,
     "user": {
      "displayName": "grimmister",
      "photoUrl": "",
      "userId": "11539785123931148346"
     },
     "user_tz": 240
    },
    "id": "ssAon1J8MT9Y",
    "outputId": "22a85278-6343-4bf5-b361-77f10ef6a898"
   },
   "outputs": [
    {
     "data": {
      "image/png": "[encoded data removed]",
      "text/plain": [
       "<Figure size 432x288 with 1 Axes>"
      ]
     },
     "metadata": {
      "needs_background": "light",
      "tags": []
     },
     "output_type": "display_data"
    },
    {
     "data": {
      "text/plain": [
       "<Figure size 1440x2160 with 0 Axes>"
      ]
     },
     "metadata": {
      "tags": []
     },
     "output_type": "display_data"
    }
   ],
   "source": [
    "plt.plot(data['trip_id'])\n",
    "plt.figure(figsize=(20,30))\n",
    "plt.show()\n",
    "#trip_id is ascending in order"
   ]
  },
  {
   "cell_type": "code",
   "execution_count": 0,
   "metadata": {
    "colab": {
     "base_uri": "https://localhost:8080/"
    },
    "colab_type": "code",
    "executionInfo": {
     "elapsed": 62163,
     "status": "ok",
     "timestamp": 1586871603759,
     "user": {
      "displayName": "grimmister",
      "photoUrl": "",
      "userId": "11539785123931148346"
     },
     "user_tz": 240
    },
    "id": "2zC3kRgOGTjI",
    "outputId": "0935e25a-2a5c-41f0-b65f-297a00311f2f"
   },
   "outputs": [
    {
     "name": "stdout",
     "output_type": "stream",
     "text": [
      "<class 'pandas.core.frame.DataFrame'>\n",
      "RangeIndex: 1492368 entries, 0 to 1492367\n",
      "Data columns (total 9 columns):\n",
      " #   Column                 Non-Null Count    Dtype   \n",
      "---  ------                 --------------    -----   \n",
      " 0   trip_id                1492368 non-null  int64   \n",
      " 1   trip_start_time        1492368 non-null  object  \n",
      " 2   trip_stop_time         1492368 non-null  object  \n",
      " 3   trip_duration_seconds  1492368 non-null  float64 \n",
      " 4   from_station_id        1492368 non-null  category\n",
      " 5   from_station_name      1492368 non-null  category\n",
      " 6   to_station_id          1492368 non-null  category\n",
      " 7   to_station_name        1492368 non-null  category\n",
      " 8   user_type              1492368 non-null  category\n",
      "dtypes: category(5), float64(1), int64(1), object(2)\n",
      "memory usage: 241.3 MB\n"
     ]
    }
   ],
   "source": [
    "data.info(memory_usage='deep')"
   ]
  },
  {
   "cell_type": "markdown",
   "metadata": {
    "colab_type": "text",
    "id": "L8Hno3yk43SW"
   },
   "source": [
    "## Second Column: trip_start_time"
   ]
  },
  {
   "cell_type": "markdown",
   "metadata": {
    "colab_type": "text",
    "id": "DGeFn3zQX3zi"
   },
   "source": [
    "Useful function for future use\n",
    "```\n",
    "dateutil.parser.parse(data['trip_start_time'][12392],dayfirst=True)\n",
    "```"
   ]
  },
  {
   "cell_type": "code",
   "execution_count": 0,
   "metadata": {
    "colab": {},
    "colab_type": "code",
    "id": "ugvmlyPfpzvu"
   },
   "outputs": [],
   "source": [
    "date_list = []\n",
    "\n",
    "for i in range(len(data['trip_start_time'])):\n",
    "    if i < 465476:\n",
    "        date_list.append(dt.datetime.strptime(data['trip_start_time'][i], '%d/%m/%Y %H:%M'))\n",
    "    elif i < 1128964:\n",
    "        date_list.append(dt.datetime.strptime(data['trip_start_time'][i], '%m/%d/%Y %H:%M'))\n",
    "    else:\n",
    "        try:\n",
    "            dt.datetime.strptime(data['trip_start_time'][i][2:], '%m-%d-%y %H:%M')\n",
    "        except:\n",
    "            date_list.append(dt.datetime.strptime(data['trip_start_time'][i], '%m/%d/%y %H:%M:%S'))\n",
    "        else:\n",
    "            date_list.append(dt.datetime.strptime(data['trip_start_time'][i][2:], '%m-%d-%y %H:%M'))\n",
    "      \n",
    "data['trip_start_time'] = date_list\n",
    "\n",
    "#Format all strings into datetimes, taking different formats into account\n",
    "#we have four different date formats, the first two being especially difficult to handle as formats/separators are the same, but day and month are flipped"
   ]
  },
  {
   "cell_type": "markdown",
   "metadata": {
    "colab_type": "text",
    "id": "Ja_HfdHNAfAv"
   },
   "source": [
    "### Error and sanity check for formatting column"
   ]
  },
  {
   "cell_type": "markdown",
   "metadata": {
    "colab_type": "text",
    "id": "vtGPAa9e__55"
   },
   "source": [
    "```\n",
    "pos = [n for n, x in enumerate(data['trip_start_time']) if '/13/17 00:02:39' in x]\n",
    "pos = [1424602]\n",
    "print(pos)\n",
    "```\n",
    "find position of string that causes trouble parsing as datetime\n",
    "```\n",
    "data.iloc[pos[0]-2:pos[0]+3,]\n",
    "```"
   ]
  },
  {
   "cell_type": "code",
   "execution_count": 0,
   "metadata": {
    "colab": {
     "base_uri": "https://localhost:8080/"
    },
    "colab_type": "code",
    "executionInfo": {
     "elapsed": 143493,
     "status": "ok",
     "timestamp": 1586871685102,
     "user": {
      "displayName": "grimmister",
      "photoUrl": "",
      "userId": "11539785123931148346"
     },
     "user_tz": 240
    },
    "id": "D7_LuO8qpzrS",
    "outputId": "a69b0c7c-9191-44b5-bf30-0a0aaad1ecfc"
   },
   "outputs": [
    {
     "data": {
      "text/plain": [
       "[<matplotlib.lines.Line2D at 0x7f779890d5f8>]"
      ]
     },
     "execution_count": 95,
     "metadata": {
      "tags": []
     },
     "output_type": "execute_result"
    },
    {
     "data": {
      "image/png": "[encoded data removed]",
      "text/plain": [
       "<Figure size 432x288 with 1 Axes>"
      ]
     },
     "metadata": {
      "needs_background": "light",
      "tags": []
     },
     "output_type": "display_data"
    }
   ],
   "source": [
    "plt.plot([x.month for x in date_list])\n",
    "#check if month is in ascending order"
   ]
  },
  {
   "cell_type": "code",
   "execution_count": 0,
   "metadata": {
    "colab": {
     "base_uri": "https://localhost:8080/"
    },
    "colab_type": "code",
    "executionInfo": {
     "elapsed": 143815,
     "status": "ok",
     "timestamp": 1586871685434,
     "user": {
      "displayName": "grimmister",
      "photoUrl": "",
      "userId": "11539785123931148346"
     },
     "user_tz": 240
    },
    "id": "UXf-QUASq0lv",
    "outputId": "8ba56597-fdf1-49ab-f28a-1c1a80816c5c"
   },
   "outputs": [
    {
     "data": {
      "text/plain": [
       "[<matplotlib.lines.Line2D at 0x7f778c7bd5f8>]"
      ]
     },
     "execution_count": 96,
     "metadata": {
      "tags": []
     },
     "output_type": "execute_result"
    },
    {
     "data": {
      "image/png": "[encoded data removed]",
      "text/plain": [
       "<Figure size 432x288 with 1 Axes>"
      ]
     },
     "metadata": {
      "needs_background": "light",
      "tags": []
     },
     "output_type": "display_data"
    }
   ],
   "source": [
    "plt.plot([x.day for x in date_list])\n",
    "#check if day is in ascending order within each month"
   ]
  },
  {
   "cell_type": "markdown",
   "metadata": {
    "colab_type": "text",
    "id": "xVxplEenFzPo"
   },
   "source": [
    "## Third Column: trip_stop_time"
   ]
  },
  {
   "cell_type": "code",
   "execution_count": 0,
   "metadata": {
    "colab": {},
    "colab_type": "code",
    "id": "M9c_UrTAkqoC"
   },
   "outputs": [],
   "source": [
    "date_list = []\n",
    "for i in range(len(data['trip_stop_time'])):\n",
    "    if i < 465476:\n",
    "        date_list.append(dt.datetime.strptime(data['trip_stop_time'][i], '%d/%m/%Y %H:%M'))\n",
    "    elif i < 1128964:\n",
    "        date_list.append(dt.datetime.strptime(data['trip_stop_time'][i], '%m/%d/%Y %H:%M'))\n",
    "    else:\n",
    "        try:\n",
    "            dt.datetime.strptime(data['trip_stop_time'][i][2:], '%m-%d-%y %H:%M')\n",
    "        except:\n",
    "            date_list.append(dt.datetime.strptime(data['trip_stop_time'][i], '%m/%d/%y %H:%M:%S'))\n",
    "        else:\n",
    "            date_list.append(dt.datetime.strptime(data['trip_stop_time'][i][2:], '%m-%d-%y %H:%M'))\n",
    "      \n",
    "data['trip_stop_time'] = date_list\n",
    "\n",
    "#Format all strings into datetimes, taking different formats into account\n",
    "#we have four different date formats, the first two being especially difficult to handle as formats/separators are the same, but day and month are flipped"
   ]
  },
  {
   "cell_type": "code",
   "execution_count": 0,
   "metadata": {
    "colab": {
     "base_uri": "https://localhost:8080/"
    },
    "colab_type": "code",
    "executionInfo": {
     "elapsed": 222427,
     "status": "ok",
     "timestamp": 1586871764068,
     "user": {
      "displayName": "grimmister",
      "photoUrl": "",
      "userId": "11539785123931148346"
     },
     "user_tz": 240
    },
    "id": "HMrtU-tiX-IL",
    "outputId": "72ac8dc0-f8cc-43a0-836f-927849bb5145"
   },
   "outputs": [
    {
     "name": "stdout",
     "output_type": "stream",
     "text": [
      "<class 'pandas.core.frame.DataFrame'>\n",
      "RangeIndex: 1492368 entries, 0 to 1492367\n",
      "Data columns (total 9 columns):\n",
      " #   Column                 Non-Null Count    Dtype         \n",
      "---  ------                 --------------    -----         \n",
      " 0   trip_id                1492368 non-null  int64         \n",
      " 1   trip_start_time        1492368 non-null  datetime64[ns]\n",
      " 2   trip_stop_time         1492368 non-null  datetime64[ns]\n",
      " 3   trip_duration_seconds  1492368 non-null  float64       \n",
      " 4   from_station_id        1492368 non-null  category      \n",
      " 5   from_station_name      1492368 non-null  category      \n",
      " 6   to_station_id          1492368 non-null  category      \n",
      " 7   to_station_name        1492368 non-null  category      \n",
      " 8   user_type              1492368 non-null  category      \n",
      "dtypes: category(5), datetime64[ns](2), float64(1), int64(1)\n",
      "memory usage: 58.5 MB\n"
     ]
    }
   ],
   "source": [
    "data.info(memory_usage='deep')\n",
    "#check file size of dataframe"
   ]
  },
  {
   "cell_type": "markdown",
   "metadata": {
    "colab_type": "text",
    "id": "XFxr008cmB-U"
   },
   "source": [
    "### Error and sanity check for formatting column"
   ]
  },
  {
   "cell_type": "code",
   "execution_count": 0,
   "metadata": {
    "colab": {
     "base_uri": "https://localhost:8080/"
    },
    "colab_type": "code",
    "executionInfo": {
     "elapsed": 223151,
     "status": "ok",
     "timestamp": 1586871764804,
     "user": {
      "displayName": "grimmister",
      "photoUrl": "",
      "userId": "11539785123931148346"
     },
     "user_tz": 240
    },
    "id": "tCS2zuqPpzi9",
    "outputId": "470cc1e1-5db5-472d-cb67-2503b709a70e"
   },
   "outputs": [
    {
     "data": {
      "text/plain": [
       "[<matplotlib.lines.Line2D at 0x7f778c71ff60>]"
      ]
     },
     "execution_count": 99,
     "metadata": {
      "tags": []
     },
     "output_type": "execute_result"
    },
    {
     "data": {
      "image/png": "[encoded data removed]",
      "text/plain": [
       "<Figure size 432x288 with 1 Axes>"
      ]
     },
     "metadata": {
      "needs_background": "light",
      "tags": []
     },
     "output_type": "display_data"
    }
   ],
   "source": [
    "plt.plot([x.month for x in date_list])\n",
    "#check if month is in ascending order\n",
    "#the spikes are due to records where the bike has been returned unusually late (sometimes months later, maybe a data error)"
   ]
  },
  {
   "cell_type": "code",
   "execution_count": 0,
   "metadata": {
    "colab": {
     "base_uri": "https://localhost:8080/"
    },
    "colab_type": "code",
    "executionInfo": {
     "elapsed": 223897,
     "status": "ok",
     "timestamp": 1586871765562,
     "user": {
      "displayName": "grimmister",
      "photoUrl": "",
      "userId": "11539785123931148346"
     },
     "user_tz": 240
    },
    "id": "1Aj9b7FcpzZf",
    "outputId": "393602bd-905a-49a0-a7db-9ea970d76438"
   },
   "outputs": [
    {
     "data": {
      "text/plain": [
       "[<matplotlib.lines.Line2D at 0x7f778c703f60>]"
      ]
     },
     "execution_count": 100,
     "metadata": {
      "tags": []
     },
     "output_type": "execute_result"
    },
    {
     "data": {
      "image/png": "[encoded data removed]",
      "text/plain": [
       "<Figure size 432x288 with 1 Axes>"
      ]
     },
     "metadata": {
      "needs_background": "light",
      "tags": []
     },
     "output_type": "display_data"
    }
   ],
   "source": [
    "plt.plot([x.day for x in date_list])\n",
    "#check if day is in ascending order within each month\n",
    "#the spikes are due to records where the bike has been returned unusually late (sometimes months later, maybe a data error)"
   ]
  },
  {
   "cell_type": "markdown",
   "metadata": {
    "colab_type": "text",
    "id": "hrzSYzyrmpwp"
   },
   "source": [
    "## Column 5 and 7: station_id"
   ]
  },
  {
   "cell_type": "markdown",
   "metadata": {
    "colab_type": "text",
    "id": "T99nNNvcxEIt"
   },
   "source": [
    "```\n",
    "data['from_station_name'].value_counts(dropna=False)\n",
    "```"
   ]
  },
  {
   "cell_type": "code",
   "execution_count": 0,
   "metadata": {
    "colab": {},
    "colab_type": "code",
    "id": "nCnwuhlC1MRk"
   },
   "outputs": [],
   "source": [
    "for name in data['from_station_name'].unique():\n",
    "    data['from_station_id'][data['from_station_name'] == name] = data[data['from_station_name'] == name].iloc[0,4]\n",
    "\n",
    "for name in data['to_station_name'].unique():\n",
    "    data['to_station_id'][data['to_station_name'] == name] = data[data['to_station_name'] == name].iloc[0,6]\n",
    "\n",
    "#Filling the remaining station_ids for the according station_names (based off the records where station_ids where actually reported)"
   ]
  },
  {
   "cell_type": "code",
   "execution_count": 0,
   "metadata": {
    "colab": {
     "base_uri": "https://localhost:8080/",
     "height": 141
    },
    "colab_type": "code",
    "executionInfo": {
     "elapsed": 231072,
     "status": "ok",
     "timestamp": 1586871772763,
     "user": {
      "displayName": "grimmister",
      "photoUrl": "",
      "userId": "11539785123931148346"
     },
     "user_tz": 240
    },
    "id": "u8InbYW-zBfl",
    "outputId": "2c3fbe9b-e6a0-4d22-a581-0a154ae9a75c"
   },
   "outputs": [
    {
     "data": {
      "text/plain": [
       "[Princess St / Adelaide St E, Widmer St / Adelaide St W, Michael Sweet Ave / St. Patrick St, Sherbourne St / Wellesley St E, HTO Park (Queens Quay W), ..., Vanauley St / Queen St W - SMART, Summerhill Ave / MacLennan Ave - SMART, Bloor St W / Shaw Ave - SMART, Exhibition GO Station, Fringe Next Stage - 7219]\n",
       "Length: 93\n",
       "Categories (93, object): [Princess St / Adelaide St E, Widmer St / Adelaide St W,\n",
       "                          Michael Sweet Ave / St. Patrick St, Sherbourne St / Wellesley St E, ...,\n",
       "                          Summerhill Ave / MacLennan Ave - SMART, Bloor St W / Shaw Ave - SMART, Exhibition GO Station,\n",
       "                          Fringe Next Stage - 7219]"
      ]
     },
     "execution_count": 102,
     "metadata": {
      "tags": []
     },
     "output_type": "execute_result"
    }
   ],
   "source": [
    "data[data['from_station_id'] == 0]['from_station_name'].unique()\n",
    "#check if from_station_id and to_station_id have the same amount of different names/ids"
   ]
  },
  {
   "cell_type": "code",
   "execution_count": 0,
   "metadata": {
    "colab": {
     "base_uri": "https://localhost:8080/",
     "height": 124
    },
    "colab_type": "code",
    "executionInfo": {
     "elapsed": 231064,
     "status": "ok",
     "timestamp": 1586871772764,
     "user": {
      "displayName": "grimmister",
      "photoUrl": "",
      "userId": "11539785123931148346"
     },
     "user_tz": 240
    },
    "id": "QG-gdwebzC41",
    "outputId": "7da9f545-8603-43ce-84d6-9b75100fcd0e"
   },
   "outputs": [
    {
     "data": {
      "text/plain": [
       "[424 Wellington St W, HTO Park (Queens Quay W), Dundas St W / Yonge St, Wellesley St E / Yonge St (Green P), College St / Major St, ..., Dovercourt Rd / Harrison St - SMART, Vanauley St / Queen St W - SMART, Bloor St W / Manning Ave - SMART, Base Station, Fringe Next Stage - 7219]\n",
       "Length: 93\n",
       "Categories (93, object): [424 Wellington St W, HTO Park (Queens Quay W), Dundas St W / Yonge St,\n",
       "                          Wellesley St E / Yonge St (Green P), ..., Vanauley St / Queen St W - SMART,\n",
       "                          Bloor St W / Manning Ave - SMART, Base Station, Fringe Next Stage - 7219]"
      ]
     },
     "execution_count": 103,
     "metadata": {
      "tags": []
     },
     "output_type": "execute_result"
    }
   ],
   "source": [
    "data[data['to_station_id'] == 0]['to_station_name'].unique()\n",
    "#check if from_station_id and to_station_id have the same amount of different names/ids"
   ]
  },
  {
   "cell_type": "code",
   "execution_count": 0,
   "metadata": {
    "colab": {},
    "colab_type": "code",
    "id": "NpR_ty-toHn_"
   },
   "outputs": [],
   "source": [
    "data.to_csv('2017_Toronto_Bikeshare_Clean.csv')"
   ]
  }
 ],
 "metadata": {
  "colab": {
   "authorship_tag": "ABX9TyP8Qd0t4V81sAMQ9luH56tk",
   "collapsed_sections": [
    "SvrbNdbq5Cof",
    "J_JGQRm34cOq",
    "fHtHqhiA4kwN",
    "N42mLVMO4LiW",
    "L8Hno3yk43SW",
    "Ja_HfdHNAfAv",
    "xVxplEenFzPo",
    "XFxr008cmB-U",
    "hrzSYzyrmpwp",
    "bxHmY3WJPBPK",
    "4v91Ilto9v94",
    "n4cQI_wQ-D3u",
    "Lpo6PaJl-74Z",
    "w3ejTwUeIaVE",
    "On6b18ryKhfT",
    "Rf6qeG5GNK37",
    "MMFrCR73UXGw",
    "SklXM7hxVVlt"
   ],
   "name": "Project1.ipynb",
   "provenance": []
  },
  "kernelspec": {
   "display_name": "Python 3",
   "language": "python",
   "name": "python3"
  },
  "language_info": {
   "codemirror_mode": {
    "name": "ipython",
    "version": 3
   },
   "file_extension": ".py",
   "mimetype": "text/x-python",
   "name": "python",
   "nbconvert_exporter": "python",
   "pygments_lexer": "ipython3",
   "version": "3.7.6"
  }
 },
 "nbformat": 4,
 "nbformat_minor": 1
}
